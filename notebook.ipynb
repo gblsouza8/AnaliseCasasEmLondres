{
 "cells": [
  {
   "cell_type": "code",
   "execution_count": 5,
   "id": "49f07e0c",
   "metadata": {},
   "outputs": [],
   "source": [
    "import pandas as pd"
   ]
  },
  {
   "cell_type": "markdown",
   "id": "de63208d",
   "metadata": {},
   "source": [
    "### Importando o DF (Baixado do Kraggle: https://www.kaggle.com/datasets/oktayrdeki/houses-in-london/data)"
   ]
  },
  {
   "cell_type": "code",
   "execution_count": 4,
   "id": "d681dc2d",
   "metadata": {},
   "outputs": [],
   "source": [
    "df=pd.read_csv('london_houses.csv')"
   ]
  },
  {
   "cell_type": "markdown",
   "id": "9d6314ca",
   "metadata": {},
   "source": [
    "### Topo do DF"
   ]
  },
  {
   "cell_type": "code",
   "execution_count": 6,
   "id": "d616927f",
   "metadata": {},
   "outputs": [
    {
     "data": {
      "text/html": [
       "<div>\n",
       "<style scoped>\n",
       "    .dataframe tbody tr th:only-of-type {\n",
       "        vertical-align: middle;\n",
       "    }\n",
       "\n",
       "    .dataframe tbody tr th {\n",
       "        vertical-align: top;\n",
       "    }\n",
       "\n",
       "    .dataframe thead th {\n",
       "        text-align: right;\n",
       "    }\n",
       "</style>\n",
       "<table border=\"1\" class=\"dataframe\">\n",
       "  <thead>\n",
       "    <tr style=\"text-align: right;\">\n",
       "      <th></th>\n",
       "      <th>Address</th>\n",
       "      <th>Neighborhood</th>\n",
       "      <th>Bedrooms</th>\n",
       "      <th>Bathrooms</th>\n",
       "      <th>Square Meters</th>\n",
       "      <th>Building Age</th>\n",
       "      <th>Garden</th>\n",
       "      <th>Garage</th>\n",
       "      <th>Floors</th>\n",
       "      <th>Property Type</th>\n",
       "      <th>Heating Type</th>\n",
       "      <th>Balcony</th>\n",
       "      <th>Interior Style</th>\n",
       "      <th>View</th>\n",
       "      <th>Materials</th>\n",
       "      <th>Building Status</th>\n",
       "      <th>Price (£)</th>\n",
       "    </tr>\n",
       "  </thead>\n",
       "  <tbody>\n",
       "    <tr>\n",
       "      <th>0</th>\n",
       "      <td>78 Regent Street</td>\n",
       "      <td>Notting Hill</td>\n",
       "      <td>2</td>\n",
       "      <td>3</td>\n",
       "      <td>179</td>\n",
       "      <td>72</td>\n",
       "      <td>No</td>\n",
       "      <td>No</td>\n",
       "      <td>3</td>\n",
       "      <td>Semi-Detached</td>\n",
       "      <td>Electric Heating</td>\n",
       "      <td>High-level Balcony</td>\n",
       "      <td>Industrial</td>\n",
       "      <td>Garden</td>\n",
       "      <td>Marble</td>\n",
       "      <td>Renovated</td>\n",
       "      <td>2291200</td>\n",
       "    </tr>\n",
       "    <tr>\n",
       "      <th>1</th>\n",
       "      <td>198 Oxford Street</td>\n",
       "      <td>Westminster</td>\n",
       "      <td>2</td>\n",
       "      <td>1</td>\n",
       "      <td>123</td>\n",
       "      <td>34</td>\n",
       "      <td>Yes</td>\n",
       "      <td>No</td>\n",
       "      <td>1</td>\n",
       "      <td>Apartment</td>\n",
       "      <td>Central Heating</td>\n",
       "      <td>High-level Balcony</td>\n",
       "      <td>Industrial</td>\n",
       "      <td>City</td>\n",
       "      <td>Laminate Flooring</td>\n",
       "      <td>Old</td>\n",
       "      <td>1476000</td>\n",
       "    </tr>\n",
       "    <tr>\n",
       "      <th>2</th>\n",
       "      <td>18 Regent Street</td>\n",
       "      <td>Soho</td>\n",
       "      <td>5</td>\n",
       "      <td>3</td>\n",
       "      <td>168</td>\n",
       "      <td>38</td>\n",
       "      <td>No</td>\n",
       "      <td>Yes</td>\n",
       "      <td>3</td>\n",
       "      <td>Semi-Detached</td>\n",
       "      <td>Central Heating</td>\n",
       "      <td>No Balcony</td>\n",
       "      <td>Industrial</td>\n",
       "      <td>Street</td>\n",
       "      <td>Wood</td>\n",
       "      <td>Renovated</td>\n",
       "      <td>1881600</td>\n",
       "    </tr>\n",
       "    <tr>\n",
       "      <th>3</th>\n",
       "      <td>39 Piccadilly Circus</td>\n",
       "      <td>Islington</td>\n",
       "      <td>5</td>\n",
       "      <td>1</td>\n",
       "      <td>237</td>\n",
       "      <td>53</td>\n",
       "      <td>Yes</td>\n",
       "      <td>Yes</td>\n",
       "      <td>1</td>\n",
       "      <td>Apartment</td>\n",
       "      <td>Underfloor Heating</td>\n",
       "      <td>No Balcony</td>\n",
       "      <td>Classic</td>\n",
       "      <td>Park</td>\n",
       "      <td>Granite</td>\n",
       "      <td>Renovated</td>\n",
       "      <td>1896000</td>\n",
       "    </tr>\n",
       "    <tr>\n",
       "      <th>4</th>\n",
       "      <td>116 Fleet Street</td>\n",
       "      <td>Marylebone</td>\n",
       "      <td>4</td>\n",
       "      <td>1</td>\n",
       "      <td>127</td>\n",
       "      <td>23</td>\n",
       "      <td>No</td>\n",
       "      <td>Yes</td>\n",
       "      <td>2</td>\n",
       "      <td>Semi-Detached</td>\n",
       "      <td>Central Heating</td>\n",
       "      <td>No Balcony</td>\n",
       "      <td>Modern</td>\n",
       "      <td>Park</td>\n",
       "      <td>Wood</td>\n",
       "      <td>Old</td>\n",
       "      <td>1524000</td>\n",
       "    </tr>\n",
       "  </tbody>\n",
       "</table>\n",
       "</div>"
      ],
      "text/plain": [
       "                Address  Neighborhood  Bedrooms  Bathrooms  Square Meters  \\\n",
       "0      78 Regent Street  Notting Hill         2          3            179   \n",
       "1     198 Oxford Street   Westminster         2          1            123   \n",
       "2      18 Regent Street          Soho         5          3            168   \n",
       "3  39 Piccadilly Circus     Islington         5          1            237   \n",
       "4      116 Fleet Street    Marylebone         4          1            127   \n",
       "\n",
       "   Building Age Garden Garage  Floors  Property Type        Heating Type  \\\n",
       "0            72     No     No       3  Semi-Detached    Electric Heating   \n",
       "1            34    Yes     No       1      Apartment     Central Heating   \n",
       "2            38     No    Yes       3  Semi-Detached     Central Heating   \n",
       "3            53    Yes    Yes       1      Apartment  Underfloor Heating   \n",
       "4            23     No    Yes       2  Semi-Detached     Central Heating   \n",
       "\n",
       "              Balcony Interior Style    View          Materials  \\\n",
       "0  High-level Balcony     Industrial  Garden             Marble   \n",
       "1  High-level Balcony     Industrial    City  Laminate Flooring   \n",
       "2          No Balcony     Industrial  Street               Wood   \n",
       "3          No Balcony        Classic    Park            Granite   \n",
       "4          No Balcony         Modern    Park               Wood   \n",
       "\n",
       "  Building Status  Price (£)  \n",
       "0       Renovated    2291200  \n",
       "1             Old    1476000  \n",
       "2       Renovated    1881600  \n",
       "3       Renovated    1896000  \n",
       "4             Old    1524000  "
      ]
     },
     "execution_count": 6,
     "metadata": {},
     "output_type": "execute_result"
    }
   ],
   "source": [
    "df.head()"
   ]
  },
  {
   "cell_type": "code",
   "execution_count": 7,
   "id": "4fcf4ca9",
   "metadata": {},
   "outputs": [
    {
     "name": "stdout",
     "output_type": "stream",
     "text": [
      "<class 'pandas.core.frame.DataFrame'>\n",
      "RangeIndex: 1000 entries, 0 to 999\n",
      "Data columns (total 17 columns):\n",
      " #   Column           Non-Null Count  Dtype \n",
      "---  ------           --------------  ----- \n",
      " 0   Address          1000 non-null   object\n",
      " 1   Neighborhood     1000 non-null   object\n",
      " 2   Bedrooms         1000 non-null   int64 \n",
      " 3   Bathrooms        1000 non-null   int64 \n",
      " 4   Square Meters    1000 non-null   int64 \n",
      " 5   Building Age     1000 non-null   int64 \n",
      " 6   Garden           1000 non-null   object\n",
      " 7   Garage           1000 non-null   object\n",
      " 8   Floors           1000 non-null   int64 \n",
      " 9   Property Type    1000 non-null   object\n",
      " 10  Heating Type     1000 non-null   object\n",
      " 11  Balcony          1000 non-null   object\n",
      " 12  Interior Style   1000 non-null   object\n",
      " 13  View             1000 non-null   object\n",
      " 14  Materials        1000 non-null   object\n",
      " 15  Building Status  1000 non-null   object\n",
      " 16  Price (£)        1000 non-null   int64 \n",
      "dtypes: int64(6), object(11)\n",
      "memory usage: 132.9+ KB\n"
     ]
    }
   ],
   "source": [
    "df.info()"
   ]
  },
  {
   "cell_type": "markdown",
   "id": "c14ce561",
   "metadata": {},
   "source": [
    "### Contando os valores null"
   ]
  },
  {
   "cell_type": "code",
   "execution_count": 8,
   "id": "b0855383",
   "metadata": {},
   "outputs": [
    {
     "data": {
      "text/plain": [
       "Address            0\n",
       "Neighborhood       0\n",
       "Bedrooms           0\n",
       "Bathrooms          0\n",
       "Square Meters      0\n",
       "Building Age       0\n",
       "Garden             0\n",
       "Garage             0\n",
       "Floors             0\n",
       "Property Type      0\n",
       "Heating Type       0\n",
       "Balcony            0\n",
       "Interior Style     0\n",
       "View               0\n",
       "Materials          0\n",
       "Building Status    0\n",
       "Price (£)          0\n",
       "dtype: int64"
      ]
     },
     "execution_count": 8,
     "metadata": {},
     "output_type": "execute_result"
    }
   ],
   "source": [
    "df.isnull().sum()"
   ]
  },
  {
   "cell_type": "markdown",
   "id": "1203d00d",
   "metadata": {},
   "source": [
    "### Exibindo as colunas que tem no DataFrame"
   ]
  },
  {
   "cell_type": "code",
   "execution_count": 9,
   "id": "2606c9a9",
   "metadata": {},
   "outputs": [
    {
     "data": {
      "text/plain": [
       "Index(['Address', 'Neighborhood', 'Bedrooms', 'Bathrooms', 'Square Meters',\n",
       "       'Building Age', 'Garden', 'Garage', 'Floors', 'Property Type',\n",
       "       'Heating Type', 'Balcony', 'Interior Style', 'View', 'Materials',\n",
       "       'Building Status', 'Price (£)'],\n",
       "      dtype='object')"
      ]
     },
     "execution_count": 9,
     "metadata": {},
     "output_type": "execute_result"
    }
   ],
   "source": [
    "df.columns"
   ]
  },
  {
   "cell_type": "markdown",
   "id": "8311f255",
   "metadata": {},
   "source": [
    "### Criando um dicionário e traduzindo as colunas"
   ]
  },
  {
   "cell_type": "code",
   "execution_count": 12,
   "id": "15252180",
   "metadata": {},
   "outputs": [
    {
     "data": {
      "text/html": [
       "<div>\n",
       "<style scoped>\n",
       "    .dataframe tbody tr th:only-of-type {\n",
       "        vertical-align: middle;\n",
       "    }\n",
       "\n",
       "    .dataframe tbody tr th {\n",
       "        vertical-align: top;\n",
       "    }\n",
       "\n",
       "    .dataframe thead th {\n",
       "        text-align: right;\n",
       "    }\n",
       "</style>\n",
       "<table border=\"1\" class=\"dataframe\">\n",
       "  <thead>\n",
       "    <tr style=\"text-align: right;\">\n",
       "      <th></th>\n",
       "      <th>Endereço</th>\n",
       "      <th>Bairro</th>\n",
       "      <th>Quartos</th>\n",
       "      <th>Bathrooms</th>\n",
       "      <th>Metros Quadrados</th>\n",
       "      <th>Idade da Construção</th>\n",
       "      <th>Jardim</th>\n",
       "      <th>Garagem</th>\n",
       "      <th>Andares</th>\n",
       "      <th>Tipo de Propriedade</th>\n",
       "      <th>Tipo de Aquecimento</th>\n",
       "      <th>Sacada</th>\n",
       "      <th>Estilo do Interior</th>\n",
       "      <th>Vista</th>\n",
       "      <th>Materiais</th>\n",
       "      <th>Status da Construção</th>\n",
       "      <th>Preço (em euros)</th>\n",
       "    </tr>\n",
       "  </thead>\n",
       "  <tbody>\n",
       "    <tr>\n",
       "      <th>0</th>\n",
       "      <td>78 Regent Street</td>\n",
       "      <td>Notting Hill</td>\n",
       "      <td>2</td>\n",
       "      <td>3</td>\n",
       "      <td>179</td>\n",
       "      <td>72</td>\n",
       "      <td>No</td>\n",
       "      <td>No</td>\n",
       "      <td>3</td>\n",
       "      <td>Semi-Detached</td>\n",
       "      <td>Electric Heating</td>\n",
       "      <td>High-level Balcony</td>\n",
       "      <td>Industrial</td>\n",
       "      <td>Garden</td>\n",
       "      <td>Marble</td>\n",
       "      <td>Renovated</td>\n",
       "      <td>2291200</td>\n",
       "    </tr>\n",
       "    <tr>\n",
       "      <th>1</th>\n",
       "      <td>198 Oxford Street</td>\n",
       "      <td>Westminster</td>\n",
       "      <td>2</td>\n",
       "      <td>1</td>\n",
       "      <td>123</td>\n",
       "      <td>34</td>\n",
       "      <td>Yes</td>\n",
       "      <td>No</td>\n",
       "      <td>1</td>\n",
       "      <td>Apartment</td>\n",
       "      <td>Central Heating</td>\n",
       "      <td>High-level Balcony</td>\n",
       "      <td>Industrial</td>\n",
       "      <td>City</td>\n",
       "      <td>Laminate Flooring</td>\n",
       "      <td>Old</td>\n",
       "      <td>1476000</td>\n",
       "    </tr>\n",
       "    <tr>\n",
       "      <th>2</th>\n",
       "      <td>18 Regent Street</td>\n",
       "      <td>Soho</td>\n",
       "      <td>5</td>\n",
       "      <td>3</td>\n",
       "      <td>168</td>\n",
       "      <td>38</td>\n",
       "      <td>No</td>\n",
       "      <td>Yes</td>\n",
       "      <td>3</td>\n",
       "      <td>Semi-Detached</td>\n",
       "      <td>Central Heating</td>\n",
       "      <td>No Balcony</td>\n",
       "      <td>Industrial</td>\n",
       "      <td>Street</td>\n",
       "      <td>Wood</td>\n",
       "      <td>Renovated</td>\n",
       "      <td>1881600</td>\n",
       "    </tr>\n",
       "    <tr>\n",
       "      <th>3</th>\n",
       "      <td>39 Piccadilly Circus</td>\n",
       "      <td>Islington</td>\n",
       "      <td>5</td>\n",
       "      <td>1</td>\n",
       "      <td>237</td>\n",
       "      <td>53</td>\n",
       "      <td>Yes</td>\n",
       "      <td>Yes</td>\n",
       "      <td>1</td>\n",
       "      <td>Apartment</td>\n",
       "      <td>Underfloor Heating</td>\n",
       "      <td>No Balcony</td>\n",
       "      <td>Classic</td>\n",
       "      <td>Park</td>\n",
       "      <td>Granite</td>\n",
       "      <td>Renovated</td>\n",
       "      <td>1896000</td>\n",
       "    </tr>\n",
       "    <tr>\n",
       "      <th>4</th>\n",
       "      <td>116 Fleet Street</td>\n",
       "      <td>Marylebone</td>\n",
       "      <td>4</td>\n",
       "      <td>1</td>\n",
       "      <td>127</td>\n",
       "      <td>23</td>\n",
       "      <td>No</td>\n",
       "      <td>Yes</td>\n",
       "      <td>2</td>\n",
       "      <td>Semi-Detached</td>\n",
       "      <td>Central Heating</td>\n",
       "      <td>No Balcony</td>\n",
       "      <td>Modern</td>\n",
       "      <td>Park</td>\n",
       "      <td>Wood</td>\n",
       "      <td>Old</td>\n",
       "      <td>1524000</td>\n",
       "    </tr>\n",
       "  </tbody>\n",
       "</table>\n",
       "</div>"
      ],
      "text/plain": [
       "               Endereço        Bairro  Quartos  Bathrooms  Metros Quadrados  \\\n",
       "0      78 Regent Street  Notting Hill        2          3               179   \n",
       "1     198 Oxford Street   Westminster        2          1               123   \n",
       "2      18 Regent Street          Soho        5          3               168   \n",
       "3  39 Piccadilly Circus     Islington        5          1               237   \n",
       "4      116 Fleet Street    Marylebone        4          1               127   \n",
       "\n",
       "   Idade da Construção Jardim Garagem  Andares Tipo de Propriedade  \\\n",
       "0                   72     No      No        3       Semi-Detached   \n",
       "1                   34    Yes      No        1           Apartment   \n",
       "2                   38     No     Yes        3       Semi-Detached   \n",
       "3                   53    Yes     Yes        1           Apartment   \n",
       "4                   23     No     Yes        2       Semi-Detached   \n",
       "\n",
       "  Tipo de Aquecimento              Sacada Estilo do Interior   Vista  \\\n",
       "0    Electric Heating  High-level Balcony         Industrial  Garden   \n",
       "1     Central Heating  High-level Balcony         Industrial    City   \n",
       "2     Central Heating          No Balcony         Industrial  Street   \n",
       "3  Underfloor Heating          No Balcony            Classic    Park   \n",
       "4     Central Heating          No Balcony             Modern    Park   \n",
       "\n",
       "           Materiais Status da Construção  Preço (em euros)  \n",
       "0             Marble            Renovated           2291200  \n",
       "1  Laminate Flooring                  Old           1476000  \n",
       "2               Wood            Renovated           1881600  \n",
       "3            Granite            Renovated           1896000  \n",
       "4               Wood                  Old           1524000  "
      ]
     },
     "execution_count": 12,
     "metadata": {},
     "output_type": "execute_result"
    }
   ],
   "source": [
    "novos_nomes = {\n",
    "    'Address': 'Endereço',\n",
    "    'Neighborhood': 'Bairro',\n",
    "    'Bedrooms': 'Quartos',\n",
    "    'Square Meters': 'Metros Quadrados',\n",
    "    'Building Age': 'Idade da Construção',\n",
    "    'Garden': 'Jardim',\n",
    "    'Garage': 'Garagem',\n",
    "    'Floors': 'Andares',\n",
    "    'Property Type': 'Tipo de Propriedade',\n",
    "    'Heating Type': 'Tipo de Aquecimento',\n",
    "    'Balcony': 'Sacada',\n",
    "    'Interior Style': 'Estilo do Interior',\n",
    "    'View': 'Vista',\n",
    "    'Materials': 'Materiais',\n",
    "    'Building Status': 'Status da Construção',\n",
    "    'Price (£)': \"Preço (em euros)\"\n",
    "}\n",
    "\n",
    "df.rename(columns=novos_nomes, inplace=True)\n",
    "df.head()"
   ]
  },
  {
   "cell_type": "markdown",
   "id": "2fce2d9b",
   "metadata": {},
   "source": [
    "### Alterando os valores 'Yes' e 'No' para 1 ou 0"
   ]
  },
  {
   "cell_type": "code",
   "execution_count": 14,
   "id": "e7dfdc3d",
   "metadata": {},
   "outputs": [],
   "source": [
    "df['Jardim'] = df['Jardim'].map({'Yes': 1, 'No': 0})"
   ]
  },
  {
   "cell_type": "code",
   "execution_count": 15,
   "id": "74be4aeb",
   "metadata": {},
   "outputs": [
    {
     "data": {
      "text/html": [
       "<div>\n",
       "<style scoped>\n",
       "    .dataframe tbody tr th:only-of-type {\n",
       "        vertical-align: middle;\n",
       "    }\n",
       "\n",
       "    .dataframe tbody tr th {\n",
       "        vertical-align: top;\n",
       "    }\n",
       "\n",
       "    .dataframe thead th {\n",
       "        text-align: right;\n",
       "    }\n",
       "</style>\n",
       "<table border=\"1\" class=\"dataframe\">\n",
       "  <thead>\n",
       "    <tr style=\"text-align: right;\">\n",
       "      <th></th>\n",
       "      <th>Endereço</th>\n",
       "      <th>Bairro</th>\n",
       "      <th>Quartos</th>\n",
       "      <th>Bathrooms</th>\n",
       "      <th>Metros Quadrados</th>\n",
       "      <th>Idade da Construção</th>\n",
       "      <th>Jardim</th>\n",
       "      <th>Garagem</th>\n",
       "      <th>Andares</th>\n",
       "      <th>Tipo de Propriedade</th>\n",
       "      <th>Tipo de Aquecimento</th>\n",
       "      <th>Sacada</th>\n",
       "      <th>Estilo do Interior</th>\n",
       "      <th>Vista</th>\n",
       "      <th>Materiais</th>\n",
       "      <th>Status da Construção</th>\n",
       "      <th>Preço (em euros)</th>\n",
       "    </tr>\n",
       "  </thead>\n",
       "  <tbody>\n",
       "    <tr>\n",
       "      <th>0</th>\n",
       "      <td>78 Regent Street</td>\n",
       "      <td>Notting Hill</td>\n",
       "      <td>2</td>\n",
       "      <td>3</td>\n",
       "      <td>179</td>\n",
       "      <td>72</td>\n",
       "      <td>0</td>\n",
       "      <td>No</td>\n",
       "      <td>3</td>\n",
       "      <td>Semi-Detached</td>\n",
       "      <td>Electric Heating</td>\n",
       "      <td>High-level Balcony</td>\n",
       "      <td>Industrial</td>\n",
       "      <td>Garden</td>\n",
       "      <td>Marble</td>\n",
       "      <td>Renovated</td>\n",
       "      <td>2291200</td>\n",
       "    </tr>\n",
       "    <tr>\n",
       "      <th>1</th>\n",
       "      <td>198 Oxford Street</td>\n",
       "      <td>Westminster</td>\n",
       "      <td>2</td>\n",
       "      <td>1</td>\n",
       "      <td>123</td>\n",
       "      <td>34</td>\n",
       "      <td>1</td>\n",
       "      <td>No</td>\n",
       "      <td>1</td>\n",
       "      <td>Apartment</td>\n",
       "      <td>Central Heating</td>\n",
       "      <td>High-level Balcony</td>\n",
       "      <td>Industrial</td>\n",
       "      <td>City</td>\n",
       "      <td>Laminate Flooring</td>\n",
       "      <td>Old</td>\n",
       "      <td>1476000</td>\n",
       "    </tr>\n",
       "  </tbody>\n",
       "</table>\n",
       "</div>"
      ],
      "text/plain": [
       "            Endereço        Bairro  Quartos  Bathrooms  Metros Quadrados  \\\n",
       "0   78 Regent Street  Notting Hill        2          3               179   \n",
       "1  198 Oxford Street   Westminster        2          1               123   \n",
       "\n",
       "   Idade da Construção  Jardim Garagem  Andares Tipo de Propriedade  \\\n",
       "0                   72       0      No        3       Semi-Detached   \n",
       "1                   34       1      No        1           Apartment   \n",
       "\n",
       "  Tipo de Aquecimento              Sacada Estilo do Interior   Vista  \\\n",
       "0    Electric Heating  High-level Balcony         Industrial  Garden   \n",
       "1     Central Heating  High-level Balcony         Industrial    City   \n",
       "\n",
       "           Materiais Status da Construção  Preço (em euros)  \n",
       "0             Marble            Renovated           2291200  \n",
       "1  Laminate Flooring                  Old           1476000  "
      ]
     },
     "execution_count": 15,
     "metadata": {},
     "output_type": "execute_result"
    }
   ],
   "source": [
    "df.head(2)"
   ]
  },
  {
   "cell_type": "markdown",
   "id": "4d1ee538",
   "metadata": {},
   "source": [
    "### Alterando os valores \"Yes\" e \"No\" da coluna Garagem para 1 e 0"
   ]
  },
  {
   "cell_type": "code",
   "execution_count": 17,
   "id": "1947f72c",
   "metadata": {},
   "outputs": [
    {
     "data": {
      "text/html": [
       "<div>\n",
       "<style scoped>\n",
       "    .dataframe tbody tr th:only-of-type {\n",
       "        vertical-align: middle;\n",
       "    }\n",
       "\n",
       "    .dataframe tbody tr th {\n",
       "        vertical-align: top;\n",
       "    }\n",
       "\n",
       "    .dataframe thead th {\n",
       "        text-align: right;\n",
       "    }\n",
       "</style>\n",
       "<table border=\"1\" class=\"dataframe\">\n",
       "  <thead>\n",
       "    <tr style=\"text-align: right;\">\n",
       "      <th></th>\n",
       "      <th>Endereço</th>\n",
       "      <th>Bairro</th>\n",
       "      <th>Quartos</th>\n",
       "      <th>Bathrooms</th>\n",
       "      <th>Metros Quadrados</th>\n",
       "      <th>Idade da Construção</th>\n",
       "      <th>Jardim</th>\n",
       "      <th>Garagem</th>\n",
       "      <th>Andares</th>\n",
       "      <th>Tipo de Propriedade</th>\n",
       "      <th>Tipo de Aquecimento</th>\n",
       "      <th>Sacada</th>\n",
       "      <th>Estilo do Interior</th>\n",
       "      <th>Vista</th>\n",
       "      <th>Materiais</th>\n",
       "      <th>Status da Construção</th>\n",
       "      <th>Preço (em euros)</th>\n",
       "    </tr>\n",
       "  </thead>\n",
       "  <tbody>\n",
       "    <tr>\n",
       "      <th>0</th>\n",
       "      <td>78 Regent Street</td>\n",
       "      <td>Notting Hill</td>\n",
       "      <td>2</td>\n",
       "      <td>3</td>\n",
       "      <td>179</td>\n",
       "      <td>72</td>\n",
       "      <td>0</td>\n",
       "      <td>0</td>\n",
       "      <td>3</td>\n",
       "      <td>Semi-Detached</td>\n",
       "      <td>Electric Heating</td>\n",
       "      <td>High-level Balcony</td>\n",
       "      <td>Industrial</td>\n",
       "      <td>Garden</td>\n",
       "      <td>Marble</td>\n",
       "      <td>Renovated</td>\n",
       "      <td>2291200</td>\n",
       "    </tr>\n",
       "    <tr>\n",
       "      <th>1</th>\n",
       "      <td>198 Oxford Street</td>\n",
       "      <td>Westminster</td>\n",
       "      <td>2</td>\n",
       "      <td>1</td>\n",
       "      <td>123</td>\n",
       "      <td>34</td>\n",
       "      <td>1</td>\n",
       "      <td>0</td>\n",
       "      <td>1</td>\n",
       "      <td>Apartment</td>\n",
       "      <td>Central Heating</td>\n",
       "      <td>High-level Balcony</td>\n",
       "      <td>Industrial</td>\n",
       "      <td>City</td>\n",
       "      <td>Laminate Flooring</td>\n",
       "      <td>Old</td>\n",
       "      <td>1476000</td>\n",
       "    </tr>\n",
       "  </tbody>\n",
       "</table>\n",
       "</div>"
      ],
      "text/plain": [
       "            Endereço        Bairro  Quartos  Bathrooms  Metros Quadrados  \\\n",
       "0   78 Regent Street  Notting Hill        2          3               179   \n",
       "1  198 Oxford Street   Westminster        2          1               123   \n",
       "\n",
       "   Idade da Construção  Jardim  Garagem  Andares Tipo de Propriedade  \\\n",
       "0                   72       0        0        3       Semi-Detached   \n",
       "1                   34       1        0        1           Apartment   \n",
       "\n",
       "  Tipo de Aquecimento              Sacada Estilo do Interior   Vista  \\\n",
       "0    Electric Heating  High-level Balcony         Industrial  Garden   \n",
       "1     Central Heating  High-level Balcony         Industrial    City   \n",
       "\n",
       "           Materiais Status da Construção  Preço (em euros)  \n",
       "0             Marble            Renovated           2291200  \n",
       "1  Laminate Flooring                  Old           1476000  "
      ]
     },
     "execution_count": 17,
     "metadata": {},
     "output_type": "execute_result"
    }
   ],
   "source": [
    "df['Garagem'] = df['Garagem'].map({'Yes': 1, 'No': 0})\n",
    "df.head(2)"
   ]
  },
  {
   "cell_type": "markdown",
   "id": "8712801a",
   "metadata": {},
   "source": [
    "### Exibindo os tipos de propriedades que tem na coluna Tipo de Propriedade"
   ]
  },
  {
   "cell_type": "code",
   "execution_count": 18,
   "id": "ba77f664",
   "metadata": {},
   "outputs": [
    {
     "data": {
      "text/plain": [
       "array(['Semi-Detached', 'Apartment', 'Detached House'], dtype=object)"
      ]
     },
     "execution_count": 18,
     "metadata": {},
     "output_type": "execute_result"
    }
   ],
   "source": [
    "df['Tipo de Propriedade'].unique()"
   ]
  },
  {
   "cell_type": "markdown",
   "id": "54643399",
   "metadata": {},
   "source": [
    "### Substituindo as linhas para uma versão traduzida"
   ]
  },
  {
   "cell_type": "code",
   "execution_count": 20,
   "id": "24a6e3f5",
   "metadata": {},
   "outputs": [
    {
     "data": {
      "text/plain": [
       "Tipo de Propriedade\n",
       "Casa Isolada    349\n",
       "Geminada        345\n",
       "Apartamento     306\n",
       "Name: count, dtype: int64"
      ]
     },
     "execution_count": 20,
     "metadata": {},
     "output_type": "execute_result"
    }
   ],
   "source": [
    "tipos = {\n",
    "    'Semi-Detached': 'Geminada',\n",
    "    'Apartment': 'Apartamento',\n",
    "    'Detached House': 'Casa Isolada'\n",
    "}\n",
    "df['Tipo de Propriedade'] = df['Tipo de Propriedade'].replace(tipos)\n",
    "df['Tipo de Propriedade'].value_counts()"
   ]
  },
  {
   "cell_type": "code",
   "execution_count": 21,
   "id": "1bef4093",
   "metadata": {},
   "outputs": [
    {
     "data": {
      "text/html": [
       "<div>\n",
       "<style scoped>\n",
       "    .dataframe tbody tr th:only-of-type {\n",
       "        vertical-align: middle;\n",
       "    }\n",
       "\n",
       "    .dataframe tbody tr th {\n",
       "        vertical-align: top;\n",
       "    }\n",
       "\n",
       "    .dataframe thead th {\n",
       "        text-align: right;\n",
       "    }\n",
       "</style>\n",
       "<table border=\"1\" class=\"dataframe\">\n",
       "  <thead>\n",
       "    <tr style=\"text-align: right;\">\n",
       "      <th></th>\n",
       "      <th>Endereço</th>\n",
       "      <th>Bairro</th>\n",
       "      <th>Quartos</th>\n",
       "      <th>Bathrooms</th>\n",
       "      <th>Metros Quadrados</th>\n",
       "      <th>Idade da Construção</th>\n",
       "      <th>Jardim</th>\n",
       "      <th>Garagem</th>\n",
       "      <th>Andares</th>\n",
       "      <th>Tipo de Propriedade</th>\n",
       "      <th>Tipo de Aquecimento</th>\n",
       "      <th>Sacada</th>\n",
       "      <th>Estilo do Interior</th>\n",
       "      <th>Vista</th>\n",
       "      <th>Materiais</th>\n",
       "      <th>Status da Construção</th>\n",
       "      <th>Preço (em euros)</th>\n",
       "    </tr>\n",
       "  </thead>\n",
       "  <tbody>\n",
       "    <tr>\n",
       "      <th>0</th>\n",
       "      <td>78 Regent Street</td>\n",
       "      <td>Notting Hill</td>\n",
       "      <td>2</td>\n",
       "      <td>3</td>\n",
       "      <td>179</td>\n",
       "      <td>72</td>\n",
       "      <td>0</td>\n",
       "      <td>0</td>\n",
       "      <td>3</td>\n",
       "      <td>Geminada</td>\n",
       "      <td>Electric Heating</td>\n",
       "      <td>High-level Balcony</td>\n",
       "      <td>Industrial</td>\n",
       "      <td>Garden</td>\n",
       "      <td>Marble</td>\n",
       "      <td>Renovated</td>\n",
       "      <td>2291200</td>\n",
       "    </tr>\n",
       "    <tr>\n",
       "      <th>1</th>\n",
       "      <td>198 Oxford Street</td>\n",
       "      <td>Westminster</td>\n",
       "      <td>2</td>\n",
       "      <td>1</td>\n",
       "      <td>123</td>\n",
       "      <td>34</td>\n",
       "      <td>1</td>\n",
       "      <td>0</td>\n",
       "      <td>1</td>\n",
       "      <td>Apartamento</td>\n",
       "      <td>Central Heating</td>\n",
       "      <td>High-level Balcony</td>\n",
       "      <td>Industrial</td>\n",
       "      <td>City</td>\n",
       "      <td>Laminate Flooring</td>\n",
       "      <td>Old</td>\n",
       "      <td>1476000</td>\n",
       "    </tr>\n",
       "  </tbody>\n",
       "</table>\n",
       "</div>"
      ],
      "text/plain": [
       "            Endereço        Bairro  Quartos  Bathrooms  Metros Quadrados  \\\n",
       "0   78 Regent Street  Notting Hill        2          3               179   \n",
       "1  198 Oxford Street   Westminster        2          1               123   \n",
       "\n",
       "   Idade da Construção  Jardim  Garagem  Andares Tipo de Propriedade  \\\n",
       "0                   72       0        0        3            Geminada   \n",
       "1                   34       1        0        1         Apartamento   \n",
       "\n",
       "  Tipo de Aquecimento              Sacada Estilo do Interior   Vista  \\\n",
       "0    Electric Heating  High-level Balcony         Industrial  Garden   \n",
       "1     Central Heating  High-level Balcony         Industrial    City   \n",
       "\n",
       "           Materiais Status da Construção  Preço (em euros)  \n",
       "0             Marble            Renovated           2291200  \n",
       "1  Laminate Flooring                  Old           1476000  "
      ]
     },
     "execution_count": 21,
     "metadata": {},
     "output_type": "execute_result"
    }
   ],
   "source": [
    "df.head(2)"
   ]
  },
  {
   "cell_type": "markdown",
   "id": "d4b40e5c",
   "metadata": {},
   "source": [
    "### Visualizando os tipos de aquecimentos"
   ]
  },
  {
   "cell_type": "code",
   "execution_count": 22,
   "id": "fa7ad13d",
   "metadata": {},
   "outputs": [
    {
     "data": {
      "text/plain": [
       "array(['Electric Heating', 'Central Heating', 'Underfloor Heating',\n",
       "       'Gas Heating'], dtype=object)"
      ]
     },
     "execution_count": 22,
     "metadata": {},
     "output_type": "execute_result"
    }
   ],
   "source": [
    "df['Tipo de Aquecimento'].unique()"
   ]
  },
  {
   "cell_type": "markdown",
   "id": "cbbb7f9e",
   "metadata": {},
   "source": [
    "### Traduzindo os tipos de aquecimento para português"
   ]
  },
  {
   "cell_type": "code",
   "execution_count": 23,
   "id": "53b6541d",
   "metadata": {},
   "outputs": [
    {
     "data": {
      "text/plain": [
       "array(['Elétrico', 'Central', 'Piso', 'Gás'], dtype=object)"
      ]
     },
     "execution_count": 23,
     "metadata": {},
     "output_type": "execute_result"
    }
   ],
   "source": [
    "tipos_aquecimento = {\n",
    "    'Electric Heating': 'Elétrico',\n",
    "    'Central Heating': 'Central',\n",
    "    'Underfloor Heating': 'Piso',\n",
    "    'Gas Heating': 'Gás'\n",
    "}\n",
    "\n",
    "df['Tipo de Aquecimento'] = df['Tipo de Aquecimento'].replace(tipos_aquecimento)\n",
    "df['Tipo de Aquecimento'].unique()"
   ]
  }
 ],
 "metadata": {
  "kernelspec": {
   "display_name": "Python 3",
   "language": "python",
   "name": "python3"
  },
  "language_info": {
   "codemirror_mode": {
    "name": "ipython",
    "version": 3
   },
   "file_extension": ".py",
   "mimetype": "text/x-python",
   "name": "python",
   "nbconvert_exporter": "python",
   "pygments_lexer": "ipython3",
   "version": "3.13.3"
  }
 },
 "nbformat": 4,
 "nbformat_minor": 5
}
