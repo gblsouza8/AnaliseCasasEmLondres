{
 "cells": [
  {
   "cell_type": "code",
   "execution_count": 2,
   "id": "49f07e0c",
   "metadata": {},
   "outputs": [],
   "source": [
    "import pandas as pd"
   ]
  },
  {
   "cell_type": "markdown",
   "id": "de63208d",
   "metadata": {},
   "source": [
    "### Importando o DF (Baixado do Kraggle: https://www.kaggle.com/datasets/oktayrdeki/houses-in-london/data)"
   ]
  },
  {
   "cell_type": "code",
   "execution_count": 3,
   "id": "d681dc2d",
   "metadata": {},
   "outputs": [],
   "source": [
    "df=pd.read_csv('london_houses.csv')"
   ]
  },
  {
   "cell_type": "markdown",
   "id": "9d6314ca",
   "metadata": {},
   "source": [
    "### Topo do DF"
   ]
  },
  {
   "cell_type": "code",
   "execution_count": 4,
   "id": "d616927f",
   "metadata": {},
   "outputs": [
    {
     "data": {
      "text/html": [
       "<div>\n",
       "<style scoped>\n",
       "    .dataframe tbody tr th:only-of-type {\n",
       "        vertical-align: middle;\n",
       "    }\n",
       "\n",
       "    .dataframe tbody tr th {\n",
       "        vertical-align: top;\n",
       "    }\n",
       "\n",
       "    .dataframe thead th {\n",
       "        text-align: right;\n",
       "    }\n",
       "</style>\n",
       "<table border=\"1\" class=\"dataframe\">\n",
       "  <thead>\n",
       "    <tr style=\"text-align: right;\">\n",
       "      <th></th>\n",
       "      <th>Address</th>\n",
       "      <th>Neighborhood</th>\n",
       "      <th>Bedrooms</th>\n",
       "      <th>Bathrooms</th>\n",
       "      <th>Square Meters</th>\n",
       "      <th>Building Age</th>\n",
       "      <th>Garden</th>\n",
       "      <th>Garage</th>\n",
       "      <th>Floors</th>\n",
       "      <th>Property Type</th>\n",
       "      <th>Heating Type</th>\n",
       "      <th>Balcony</th>\n",
       "      <th>Interior Style</th>\n",
       "      <th>View</th>\n",
       "      <th>Materials</th>\n",
       "      <th>Building Status</th>\n",
       "      <th>Price (£)</th>\n",
       "    </tr>\n",
       "  </thead>\n",
       "  <tbody>\n",
       "    <tr>\n",
       "      <th>0</th>\n",
       "      <td>78 Regent Street</td>\n",
       "      <td>Notting Hill</td>\n",
       "      <td>2</td>\n",
       "      <td>3</td>\n",
       "      <td>179</td>\n",
       "      <td>72</td>\n",
       "      <td>No</td>\n",
       "      <td>No</td>\n",
       "      <td>3</td>\n",
       "      <td>Semi-Detached</td>\n",
       "      <td>Electric Heating</td>\n",
       "      <td>High-level Balcony</td>\n",
       "      <td>Industrial</td>\n",
       "      <td>Garden</td>\n",
       "      <td>Marble</td>\n",
       "      <td>Renovated</td>\n",
       "      <td>2291200</td>\n",
       "    </tr>\n",
       "    <tr>\n",
       "      <th>1</th>\n",
       "      <td>198 Oxford Street</td>\n",
       "      <td>Westminster</td>\n",
       "      <td>2</td>\n",
       "      <td>1</td>\n",
       "      <td>123</td>\n",
       "      <td>34</td>\n",
       "      <td>Yes</td>\n",
       "      <td>No</td>\n",
       "      <td>1</td>\n",
       "      <td>Apartment</td>\n",
       "      <td>Central Heating</td>\n",
       "      <td>High-level Balcony</td>\n",
       "      <td>Industrial</td>\n",
       "      <td>City</td>\n",
       "      <td>Laminate Flooring</td>\n",
       "      <td>Old</td>\n",
       "      <td>1476000</td>\n",
       "    </tr>\n",
       "    <tr>\n",
       "      <th>2</th>\n",
       "      <td>18 Regent Street</td>\n",
       "      <td>Soho</td>\n",
       "      <td>5</td>\n",
       "      <td>3</td>\n",
       "      <td>168</td>\n",
       "      <td>38</td>\n",
       "      <td>No</td>\n",
       "      <td>Yes</td>\n",
       "      <td>3</td>\n",
       "      <td>Semi-Detached</td>\n",
       "      <td>Central Heating</td>\n",
       "      <td>No Balcony</td>\n",
       "      <td>Industrial</td>\n",
       "      <td>Street</td>\n",
       "      <td>Wood</td>\n",
       "      <td>Renovated</td>\n",
       "      <td>1881600</td>\n",
       "    </tr>\n",
       "    <tr>\n",
       "      <th>3</th>\n",
       "      <td>39 Piccadilly Circus</td>\n",
       "      <td>Islington</td>\n",
       "      <td>5</td>\n",
       "      <td>1</td>\n",
       "      <td>237</td>\n",
       "      <td>53</td>\n",
       "      <td>Yes</td>\n",
       "      <td>Yes</td>\n",
       "      <td>1</td>\n",
       "      <td>Apartment</td>\n",
       "      <td>Underfloor Heating</td>\n",
       "      <td>No Balcony</td>\n",
       "      <td>Classic</td>\n",
       "      <td>Park</td>\n",
       "      <td>Granite</td>\n",
       "      <td>Renovated</td>\n",
       "      <td>1896000</td>\n",
       "    </tr>\n",
       "    <tr>\n",
       "      <th>4</th>\n",
       "      <td>116 Fleet Street</td>\n",
       "      <td>Marylebone</td>\n",
       "      <td>4</td>\n",
       "      <td>1</td>\n",
       "      <td>127</td>\n",
       "      <td>23</td>\n",
       "      <td>No</td>\n",
       "      <td>Yes</td>\n",
       "      <td>2</td>\n",
       "      <td>Semi-Detached</td>\n",
       "      <td>Central Heating</td>\n",
       "      <td>No Balcony</td>\n",
       "      <td>Modern</td>\n",
       "      <td>Park</td>\n",
       "      <td>Wood</td>\n",
       "      <td>Old</td>\n",
       "      <td>1524000</td>\n",
       "    </tr>\n",
       "  </tbody>\n",
       "</table>\n",
       "</div>"
      ],
      "text/plain": [
       "                Address  Neighborhood  Bedrooms  Bathrooms  Square Meters  \\\n",
       "0      78 Regent Street  Notting Hill         2          3            179   \n",
       "1     198 Oxford Street   Westminster         2          1            123   \n",
       "2      18 Regent Street          Soho         5          3            168   \n",
       "3  39 Piccadilly Circus     Islington         5          1            237   \n",
       "4      116 Fleet Street    Marylebone         4          1            127   \n",
       "\n",
       "   Building Age Garden Garage  Floors  Property Type        Heating Type  \\\n",
       "0            72     No     No       3  Semi-Detached    Electric Heating   \n",
       "1            34    Yes     No       1      Apartment     Central Heating   \n",
       "2            38     No    Yes       3  Semi-Detached     Central Heating   \n",
       "3            53    Yes    Yes       1      Apartment  Underfloor Heating   \n",
       "4            23     No    Yes       2  Semi-Detached     Central Heating   \n",
       "\n",
       "              Balcony Interior Style    View          Materials  \\\n",
       "0  High-level Balcony     Industrial  Garden             Marble   \n",
       "1  High-level Balcony     Industrial    City  Laminate Flooring   \n",
       "2          No Balcony     Industrial  Street               Wood   \n",
       "3          No Balcony        Classic    Park            Granite   \n",
       "4          No Balcony         Modern    Park               Wood   \n",
       "\n",
       "  Building Status  Price (£)  \n",
       "0       Renovated    2291200  \n",
       "1             Old    1476000  \n",
       "2       Renovated    1881600  \n",
       "3       Renovated    1896000  \n",
       "4             Old    1524000  "
      ]
     },
     "execution_count": 4,
     "metadata": {},
     "output_type": "execute_result"
    }
   ],
   "source": [
    "df.head()"
   ]
  },
  {
   "cell_type": "code",
   "execution_count": 5,
   "id": "4fcf4ca9",
   "metadata": {},
   "outputs": [
    {
     "name": "stdout",
     "output_type": "stream",
     "text": [
      "<class 'pandas.core.frame.DataFrame'>\n",
      "RangeIndex: 1000 entries, 0 to 999\n",
      "Data columns (total 17 columns):\n",
      " #   Column           Non-Null Count  Dtype \n",
      "---  ------           --------------  ----- \n",
      " 0   Address          1000 non-null   object\n",
      " 1   Neighborhood     1000 non-null   object\n",
      " 2   Bedrooms         1000 non-null   int64 \n",
      " 3   Bathrooms        1000 non-null   int64 \n",
      " 4   Square Meters    1000 non-null   int64 \n",
      " 5   Building Age     1000 non-null   int64 \n",
      " 6   Garden           1000 non-null   object\n",
      " 7   Garage           1000 non-null   object\n",
      " 8   Floors           1000 non-null   int64 \n",
      " 9   Property Type    1000 non-null   object\n",
      " 10  Heating Type     1000 non-null   object\n",
      " 11  Balcony          1000 non-null   object\n",
      " 12  Interior Style   1000 non-null   object\n",
      " 13  View             1000 non-null   object\n",
      " 14  Materials        1000 non-null   object\n",
      " 15  Building Status  1000 non-null   object\n",
      " 16  Price (£)        1000 non-null   int64 \n",
      "dtypes: int64(6), object(11)\n",
      "memory usage: 132.9+ KB\n"
     ]
    }
   ],
   "source": [
    "df.info()"
   ]
  },
  {
   "cell_type": "markdown",
   "id": "c14ce561",
   "metadata": {},
   "source": [
    "### Contando os valores null"
   ]
  },
  {
   "cell_type": "code",
   "execution_count": 6,
   "id": "b0855383",
   "metadata": {},
   "outputs": [
    {
     "data": {
      "text/plain": [
       "Address            0\n",
       "Neighborhood       0\n",
       "Bedrooms           0\n",
       "Bathrooms          0\n",
       "Square Meters      0\n",
       "Building Age       0\n",
       "Garden             0\n",
       "Garage             0\n",
       "Floors             0\n",
       "Property Type      0\n",
       "Heating Type       0\n",
       "Balcony            0\n",
       "Interior Style     0\n",
       "View               0\n",
       "Materials          0\n",
       "Building Status    0\n",
       "Price (£)          0\n",
       "dtype: int64"
      ]
     },
     "execution_count": 6,
     "metadata": {},
     "output_type": "execute_result"
    }
   ],
   "source": [
    "df.isnull().sum()"
   ]
  },
  {
   "cell_type": "markdown",
   "id": "1203d00d",
   "metadata": {},
   "source": [
    "### Exibindo as colunas que tem no DataFrame"
   ]
  },
  {
   "cell_type": "code",
   "execution_count": 7,
   "id": "2606c9a9",
   "metadata": {},
   "outputs": [
    {
     "data": {
      "text/plain": [
       "Index(['Address', 'Neighborhood', 'Bedrooms', 'Bathrooms', 'Square Meters',\n",
       "       'Building Age', 'Garden', 'Garage', 'Floors', 'Property Type',\n",
       "       'Heating Type', 'Balcony', 'Interior Style', 'View', 'Materials',\n",
       "       'Building Status', 'Price (£)'],\n",
       "      dtype='object')"
      ]
     },
     "execution_count": 7,
     "metadata": {},
     "output_type": "execute_result"
    }
   ],
   "source": [
    "df.columns"
   ]
  },
  {
   "cell_type": "markdown",
   "id": "8311f255",
   "metadata": {},
   "source": [
    "### Criando um dicionário e traduzindo as colunas"
   ]
  },
  {
   "cell_type": "code",
   "execution_count": 8,
   "id": "15252180",
   "metadata": {},
   "outputs": [
    {
     "data": {
      "text/html": [
       "<div>\n",
       "<style scoped>\n",
       "    .dataframe tbody tr th:only-of-type {\n",
       "        vertical-align: middle;\n",
       "    }\n",
       "\n",
       "    .dataframe tbody tr th {\n",
       "        vertical-align: top;\n",
       "    }\n",
       "\n",
       "    .dataframe thead th {\n",
       "        text-align: right;\n",
       "    }\n",
       "</style>\n",
       "<table border=\"1\" class=\"dataframe\">\n",
       "  <thead>\n",
       "    <tr style=\"text-align: right;\">\n",
       "      <th></th>\n",
       "      <th>Endereço</th>\n",
       "      <th>Bairro</th>\n",
       "      <th>Quartos</th>\n",
       "      <th>Bathrooms</th>\n",
       "      <th>Metros Quadrados</th>\n",
       "      <th>Idade da Construção</th>\n",
       "      <th>Jardim</th>\n",
       "      <th>Garagem</th>\n",
       "      <th>Andares</th>\n",
       "      <th>Tipo de Propriedade</th>\n",
       "      <th>Tipo de Aquecimento</th>\n",
       "      <th>Sacada</th>\n",
       "      <th>Estilo do Interior</th>\n",
       "      <th>Vista</th>\n",
       "      <th>Materiais</th>\n",
       "      <th>Status da Construção</th>\n",
       "      <th>Preço (em euros)</th>\n",
       "    </tr>\n",
       "  </thead>\n",
       "  <tbody>\n",
       "    <tr>\n",
       "      <th>0</th>\n",
       "      <td>78 Regent Street</td>\n",
       "      <td>Notting Hill</td>\n",
       "      <td>2</td>\n",
       "      <td>3</td>\n",
       "      <td>179</td>\n",
       "      <td>72</td>\n",
       "      <td>No</td>\n",
       "      <td>No</td>\n",
       "      <td>3</td>\n",
       "      <td>Semi-Detached</td>\n",
       "      <td>Electric Heating</td>\n",
       "      <td>High-level Balcony</td>\n",
       "      <td>Industrial</td>\n",
       "      <td>Garden</td>\n",
       "      <td>Marble</td>\n",
       "      <td>Renovated</td>\n",
       "      <td>2291200</td>\n",
       "    </tr>\n",
       "    <tr>\n",
       "      <th>1</th>\n",
       "      <td>198 Oxford Street</td>\n",
       "      <td>Westminster</td>\n",
       "      <td>2</td>\n",
       "      <td>1</td>\n",
       "      <td>123</td>\n",
       "      <td>34</td>\n",
       "      <td>Yes</td>\n",
       "      <td>No</td>\n",
       "      <td>1</td>\n",
       "      <td>Apartment</td>\n",
       "      <td>Central Heating</td>\n",
       "      <td>High-level Balcony</td>\n",
       "      <td>Industrial</td>\n",
       "      <td>City</td>\n",
       "      <td>Laminate Flooring</td>\n",
       "      <td>Old</td>\n",
       "      <td>1476000</td>\n",
       "    </tr>\n",
       "    <tr>\n",
       "      <th>2</th>\n",
       "      <td>18 Regent Street</td>\n",
       "      <td>Soho</td>\n",
       "      <td>5</td>\n",
       "      <td>3</td>\n",
       "      <td>168</td>\n",
       "      <td>38</td>\n",
       "      <td>No</td>\n",
       "      <td>Yes</td>\n",
       "      <td>3</td>\n",
       "      <td>Semi-Detached</td>\n",
       "      <td>Central Heating</td>\n",
       "      <td>No Balcony</td>\n",
       "      <td>Industrial</td>\n",
       "      <td>Street</td>\n",
       "      <td>Wood</td>\n",
       "      <td>Renovated</td>\n",
       "      <td>1881600</td>\n",
       "    </tr>\n",
       "    <tr>\n",
       "      <th>3</th>\n",
       "      <td>39 Piccadilly Circus</td>\n",
       "      <td>Islington</td>\n",
       "      <td>5</td>\n",
       "      <td>1</td>\n",
       "      <td>237</td>\n",
       "      <td>53</td>\n",
       "      <td>Yes</td>\n",
       "      <td>Yes</td>\n",
       "      <td>1</td>\n",
       "      <td>Apartment</td>\n",
       "      <td>Underfloor Heating</td>\n",
       "      <td>No Balcony</td>\n",
       "      <td>Classic</td>\n",
       "      <td>Park</td>\n",
       "      <td>Granite</td>\n",
       "      <td>Renovated</td>\n",
       "      <td>1896000</td>\n",
       "    </tr>\n",
       "    <tr>\n",
       "      <th>4</th>\n",
       "      <td>116 Fleet Street</td>\n",
       "      <td>Marylebone</td>\n",
       "      <td>4</td>\n",
       "      <td>1</td>\n",
       "      <td>127</td>\n",
       "      <td>23</td>\n",
       "      <td>No</td>\n",
       "      <td>Yes</td>\n",
       "      <td>2</td>\n",
       "      <td>Semi-Detached</td>\n",
       "      <td>Central Heating</td>\n",
       "      <td>No Balcony</td>\n",
       "      <td>Modern</td>\n",
       "      <td>Park</td>\n",
       "      <td>Wood</td>\n",
       "      <td>Old</td>\n",
       "      <td>1524000</td>\n",
       "    </tr>\n",
       "  </tbody>\n",
       "</table>\n",
       "</div>"
      ],
      "text/plain": [
       "               Endereço        Bairro  Quartos  Bathrooms  Metros Quadrados  \\\n",
       "0      78 Regent Street  Notting Hill        2          3               179   \n",
       "1     198 Oxford Street   Westminster        2          1               123   \n",
       "2      18 Regent Street          Soho        5          3               168   \n",
       "3  39 Piccadilly Circus     Islington        5          1               237   \n",
       "4      116 Fleet Street    Marylebone        4          1               127   \n",
       "\n",
       "   Idade da Construção Jardim Garagem  Andares Tipo de Propriedade  \\\n",
       "0                   72     No      No        3       Semi-Detached   \n",
       "1                   34    Yes      No        1           Apartment   \n",
       "2                   38     No     Yes        3       Semi-Detached   \n",
       "3                   53    Yes     Yes        1           Apartment   \n",
       "4                   23     No     Yes        2       Semi-Detached   \n",
       "\n",
       "  Tipo de Aquecimento              Sacada Estilo do Interior   Vista  \\\n",
       "0    Electric Heating  High-level Balcony         Industrial  Garden   \n",
       "1     Central Heating  High-level Balcony         Industrial    City   \n",
       "2     Central Heating          No Balcony         Industrial  Street   \n",
       "3  Underfloor Heating          No Balcony            Classic    Park   \n",
       "4     Central Heating          No Balcony             Modern    Park   \n",
       "\n",
       "           Materiais Status da Construção  Preço (em euros)  \n",
       "0             Marble            Renovated           2291200  \n",
       "1  Laminate Flooring                  Old           1476000  \n",
       "2               Wood            Renovated           1881600  \n",
       "3            Granite            Renovated           1896000  \n",
       "4               Wood                  Old           1524000  "
      ]
     },
     "execution_count": 8,
     "metadata": {},
     "output_type": "execute_result"
    }
   ],
   "source": [
    "novos_nomes = {\n",
    "    'Address': 'Endereço',\n",
    "    'Neighborhood': 'Bairro',\n",
    "    'Bedrooms': 'Quartos',\n",
    "    'Square Meters': 'Metros Quadrados',\n",
    "    'Building Age': 'Idade da Construção',\n",
    "    'Garden': 'Jardim',\n",
    "    'Garage': 'Garagem',\n",
    "    'Floors': 'Andares',\n",
    "    'Property Type': 'Tipo de Propriedade',\n",
    "    'Heating Type': 'Tipo de Aquecimento',\n",
    "    'Balcony': 'Sacada',\n",
    "    'Interior Style': 'Estilo do Interior',\n",
    "    'View': 'Vista',\n",
    "    'Materials': 'Materiais',\n",
    "    'Building Status': 'Status da Construção',\n",
    "    'Price (£)': \"Preço (em euros)\"\n",
    "}\n",
    "\n",
    "df.rename(columns=novos_nomes, inplace=True)\n",
    "df.head()"
   ]
  },
  {
   "cell_type": "markdown",
   "id": "2fce2d9b",
   "metadata": {},
   "source": [
    "### Alterando os valores 'Yes' e 'No' para 1 ou 0"
   ]
  },
  {
   "cell_type": "code",
   "execution_count": 9,
   "id": "e7dfdc3d",
   "metadata": {},
   "outputs": [],
   "source": [
    "df['Jardim'] = df['Jardim'].map({'Yes': 1, 'No': 0})"
   ]
  },
  {
   "cell_type": "code",
   "execution_count": 10,
   "id": "74be4aeb",
   "metadata": {},
   "outputs": [
    {
     "data": {
      "text/html": [
       "<div>\n",
       "<style scoped>\n",
       "    .dataframe tbody tr th:only-of-type {\n",
       "        vertical-align: middle;\n",
       "    }\n",
       "\n",
       "    .dataframe tbody tr th {\n",
       "        vertical-align: top;\n",
       "    }\n",
       "\n",
       "    .dataframe thead th {\n",
       "        text-align: right;\n",
       "    }\n",
       "</style>\n",
       "<table border=\"1\" class=\"dataframe\">\n",
       "  <thead>\n",
       "    <tr style=\"text-align: right;\">\n",
       "      <th></th>\n",
       "      <th>Endereço</th>\n",
       "      <th>Bairro</th>\n",
       "      <th>Quartos</th>\n",
       "      <th>Bathrooms</th>\n",
       "      <th>Metros Quadrados</th>\n",
       "      <th>Idade da Construção</th>\n",
       "      <th>Jardim</th>\n",
       "      <th>Garagem</th>\n",
       "      <th>Andares</th>\n",
       "      <th>Tipo de Propriedade</th>\n",
       "      <th>Tipo de Aquecimento</th>\n",
       "      <th>Sacada</th>\n",
       "      <th>Estilo do Interior</th>\n",
       "      <th>Vista</th>\n",
       "      <th>Materiais</th>\n",
       "      <th>Status da Construção</th>\n",
       "      <th>Preço (em euros)</th>\n",
       "    </tr>\n",
       "  </thead>\n",
       "  <tbody>\n",
       "    <tr>\n",
       "      <th>0</th>\n",
       "      <td>78 Regent Street</td>\n",
       "      <td>Notting Hill</td>\n",
       "      <td>2</td>\n",
       "      <td>3</td>\n",
       "      <td>179</td>\n",
       "      <td>72</td>\n",
       "      <td>0</td>\n",
       "      <td>No</td>\n",
       "      <td>3</td>\n",
       "      <td>Semi-Detached</td>\n",
       "      <td>Electric Heating</td>\n",
       "      <td>High-level Balcony</td>\n",
       "      <td>Industrial</td>\n",
       "      <td>Garden</td>\n",
       "      <td>Marble</td>\n",
       "      <td>Renovated</td>\n",
       "      <td>2291200</td>\n",
       "    </tr>\n",
       "    <tr>\n",
       "      <th>1</th>\n",
       "      <td>198 Oxford Street</td>\n",
       "      <td>Westminster</td>\n",
       "      <td>2</td>\n",
       "      <td>1</td>\n",
       "      <td>123</td>\n",
       "      <td>34</td>\n",
       "      <td>1</td>\n",
       "      <td>No</td>\n",
       "      <td>1</td>\n",
       "      <td>Apartment</td>\n",
       "      <td>Central Heating</td>\n",
       "      <td>High-level Balcony</td>\n",
       "      <td>Industrial</td>\n",
       "      <td>City</td>\n",
       "      <td>Laminate Flooring</td>\n",
       "      <td>Old</td>\n",
       "      <td>1476000</td>\n",
       "    </tr>\n",
       "  </tbody>\n",
       "</table>\n",
       "</div>"
      ],
      "text/plain": [
       "            Endereço        Bairro  Quartos  Bathrooms  Metros Quadrados  \\\n",
       "0   78 Regent Street  Notting Hill        2          3               179   \n",
       "1  198 Oxford Street   Westminster        2          1               123   \n",
       "\n",
       "   Idade da Construção  Jardim Garagem  Andares Tipo de Propriedade  \\\n",
       "0                   72       0      No        3       Semi-Detached   \n",
       "1                   34       1      No        1           Apartment   \n",
       "\n",
       "  Tipo de Aquecimento              Sacada Estilo do Interior   Vista  \\\n",
       "0    Electric Heating  High-level Balcony         Industrial  Garden   \n",
       "1     Central Heating  High-level Balcony         Industrial    City   \n",
       "\n",
       "           Materiais Status da Construção  Preço (em euros)  \n",
       "0             Marble            Renovated           2291200  \n",
       "1  Laminate Flooring                  Old           1476000  "
      ]
     },
     "execution_count": 10,
     "metadata": {},
     "output_type": "execute_result"
    }
   ],
   "source": [
    "df.head(2)"
   ]
  },
  {
   "cell_type": "markdown",
   "id": "4d1ee538",
   "metadata": {},
   "source": [
    "### Alterando os valores \"Yes\" e \"No\" da coluna Garagem para 1 e 0"
   ]
  },
  {
   "cell_type": "code",
   "execution_count": 11,
   "id": "1947f72c",
   "metadata": {},
   "outputs": [
    {
     "data": {
      "text/html": [
       "<div>\n",
       "<style scoped>\n",
       "    .dataframe tbody tr th:only-of-type {\n",
       "        vertical-align: middle;\n",
       "    }\n",
       "\n",
       "    .dataframe tbody tr th {\n",
       "        vertical-align: top;\n",
       "    }\n",
       "\n",
       "    .dataframe thead th {\n",
       "        text-align: right;\n",
       "    }\n",
       "</style>\n",
       "<table border=\"1\" class=\"dataframe\">\n",
       "  <thead>\n",
       "    <tr style=\"text-align: right;\">\n",
       "      <th></th>\n",
       "      <th>Endereço</th>\n",
       "      <th>Bairro</th>\n",
       "      <th>Quartos</th>\n",
       "      <th>Bathrooms</th>\n",
       "      <th>Metros Quadrados</th>\n",
       "      <th>Idade da Construção</th>\n",
       "      <th>Jardim</th>\n",
       "      <th>Garagem</th>\n",
       "      <th>Andares</th>\n",
       "      <th>Tipo de Propriedade</th>\n",
       "      <th>Tipo de Aquecimento</th>\n",
       "      <th>Sacada</th>\n",
       "      <th>Estilo do Interior</th>\n",
       "      <th>Vista</th>\n",
       "      <th>Materiais</th>\n",
       "      <th>Status da Construção</th>\n",
       "      <th>Preço (em euros)</th>\n",
       "    </tr>\n",
       "  </thead>\n",
       "  <tbody>\n",
       "    <tr>\n",
       "      <th>0</th>\n",
       "      <td>78 Regent Street</td>\n",
       "      <td>Notting Hill</td>\n",
       "      <td>2</td>\n",
       "      <td>3</td>\n",
       "      <td>179</td>\n",
       "      <td>72</td>\n",
       "      <td>0</td>\n",
       "      <td>0</td>\n",
       "      <td>3</td>\n",
       "      <td>Semi-Detached</td>\n",
       "      <td>Electric Heating</td>\n",
       "      <td>High-level Balcony</td>\n",
       "      <td>Industrial</td>\n",
       "      <td>Garden</td>\n",
       "      <td>Marble</td>\n",
       "      <td>Renovated</td>\n",
       "      <td>2291200</td>\n",
       "    </tr>\n",
       "    <tr>\n",
       "      <th>1</th>\n",
       "      <td>198 Oxford Street</td>\n",
       "      <td>Westminster</td>\n",
       "      <td>2</td>\n",
       "      <td>1</td>\n",
       "      <td>123</td>\n",
       "      <td>34</td>\n",
       "      <td>1</td>\n",
       "      <td>0</td>\n",
       "      <td>1</td>\n",
       "      <td>Apartment</td>\n",
       "      <td>Central Heating</td>\n",
       "      <td>High-level Balcony</td>\n",
       "      <td>Industrial</td>\n",
       "      <td>City</td>\n",
       "      <td>Laminate Flooring</td>\n",
       "      <td>Old</td>\n",
       "      <td>1476000</td>\n",
       "    </tr>\n",
       "  </tbody>\n",
       "</table>\n",
       "</div>"
      ],
      "text/plain": [
       "            Endereço        Bairro  Quartos  Bathrooms  Metros Quadrados  \\\n",
       "0   78 Regent Street  Notting Hill        2          3               179   \n",
       "1  198 Oxford Street   Westminster        2          1               123   \n",
       "\n",
       "   Idade da Construção  Jardim  Garagem  Andares Tipo de Propriedade  \\\n",
       "0                   72       0        0        3       Semi-Detached   \n",
       "1                   34       1        0        1           Apartment   \n",
       "\n",
       "  Tipo de Aquecimento              Sacada Estilo do Interior   Vista  \\\n",
       "0    Electric Heating  High-level Balcony         Industrial  Garden   \n",
       "1     Central Heating  High-level Balcony         Industrial    City   \n",
       "\n",
       "           Materiais Status da Construção  Preço (em euros)  \n",
       "0             Marble            Renovated           2291200  \n",
       "1  Laminate Flooring                  Old           1476000  "
      ]
     },
     "execution_count": 11,
     "metadata": {},
     "output_type": "execute_result"
    }
   ],
   "source": [
    "df['Garagem'] = df['Garagem'].map({'Yes': 1, 'No': 0})\n",
    "df.head(2)"
   ]
  },
  {
   "cell_type": "markdown",
   "id": "8712801a",
   "metadata": {},
   "source": [
    "### Exibindo os tipos de propriedades que tem na coluna Tipo de Propriedade"
   ]
  },
  {
   "cell_type": "code",
   "execution_count": 12,
   "id": "ba77f664",
   "metadata": {},
   "outputs": [
    {
     "data": {
      "text/plain": [
       "array(['Semi-Detached', 'Apartment', 'Detached House'], dtype=object)"
      ]
     },
     "execution_count": 12,
     "metadata": {},
     "output_type": "execute_result"
    }
   ],
   "source": [
    "df['Tipo de Propriedade'].unique()"
   ]
  },
  {
   "cell_type": "markdown",
   "id": "54643399",
   "metadata": {},
   "source": [
    "### Substituindo as linhas para uma versão traduzida"
   ]
  },
  {
   "cell_type": "code",
   "execution_count": 13,
   "id": "24a6e3f5",
   "metadata": {},
   "outputs": [
    {
     "data": {
      "text/plain": [
       "Tipo de Propriedade\n",
       "Casa Isolada    349\n",
       "Geminada        345\n",
       "Apartamento     306\n",
       "Name: count, dtype: int64"
      ]
     },
     "execution_count": 13,
     "metadata": {},
     "output_type": "execute_result"
    }
   ],
   "source": [
    "tipos = {\n",
    "    'Semi-Detached': 'Geminada',\n",
    "    'Apartment': 'Apartamento',\n",
    "    'Detached House': 'Casa Isolada'\n",
    "}\n",
    "df['Tipo de Propriedade'] = df['Tipo de Propriedade'].replace(tipos)\n",
    "df['Tipo de Propriedade'].value_counts()"
   ]
  },
  {
   "cell_type": "code",
   "execution_count": 14,
   "id": "1bef4093",
   "metadata": {},
   "outputs": [
    {
     "data": {
      "text/html": [
       "<div>\n",
       "<style scoped>\n",
       "    .dataframe tbody tr th:only-of-type {\n",
       "        vertical-align: middle;\n",
       "    }\n",
       "\n",
       "    .dataframe tbody tr th {\n",
       "        vertical-align: top;\n",
       "    }\n",
       "\n",
       "    .dataframe thead th {\n",
       "        text-align: right;\n",
       "    }\n",
       "</style>\n",
       "<table border=\"1\" class=\"dataframe\">\n",
       "  <thead>\n",
       "    <tr style=\"text-align: right;\">\n",
       "      <th></th>\n",
       "      <th>Endereço</th>\n",
       "      <th>Bairro</th>\n",
       "      <th>Quartos</th>\n",
       "      <th>Bathrooms</th>\n",
       "      <th>Metros Quadrados</th>\n",
       "      <th>Idade da Construção</th>\n",
       "      <th>Jardim</th>\n",
       "      <th>Garagem</th>\n",
       "      <th>Andares</th>\n",
       "      <th>Tipo de Propriedade</th>\n",
       "      <th>Tipo de Aquecimento</th>\n",
       "      <th>Sacada</th>\n",
       "      <th>Estilo do Interior</th>\n",
       "      <th>Vista</th>\n",
       "      <th>Materiais</th>\n",
       "      <th>Status da Construção</th>\n",
       "      <th>Preço (em euros)</th>\n",
       "    </tr>\n",
       "  </thead>\n",
       "  <tbody>\n",
       "    <tr>\n",
       "      <th>0</th>\n",
       "      <td>78 Regent Street</td>\n",
       "      <td>Notting Hill</td>\n",
       "      <td>2</td>\n",
       "      <td>3</td>\n",
       "      <td>179</td>\n",
       "      <td>72</td>\n",
       "      <td>0</td>\n",
       "      <td>0</td>\n",
       "      <td>3</td>\n",
       "      <td>Geminada</td>\n",
       "      <td>Electric Heating</td>\n",
       "      <td>High-level Balcony</td>\n",
       "      <td>Industrial</td>\n",
       "      <td>Garden</td>\n",
       "      <td>Marble</td>\n",
       "      <td>Renovated</td>\n",
       "      <td>2291200</td>\n",
       "    </tr>\n",
       "    <tr>\n",
       "      <th>1</th>\n",
       "      <td>198 Oxford Street</td>\n",
       "      <td>Westminster</td>\n",
       "      <td>2</td>\n",
       "      <td>1</td>\n",
       "      <td>123</td>\n",
       "      <td>34</td>\n",
       "      <td>1</td>\n",
       "      <td>0</td>\n",
       "      <td>1</td>\n",
       "      <td>Apartamento</td>\n",
       "      <td>Central Heating</td>\n",
       "      <td>High-level Balcony</td>\n",
       "      <td>Industrial</td>\n",
       "      <td>City</td>\n",
       "      <td>Laminate Flooring</td>\n",
       "      <td>Old</td>\n",
       "      <td>1476000</td>\n",
       "    </tr>\n",
       "  </tbody>\n",
       "</table>\n",
       "</div>"
      ],
      "text/plain": [
       "            Endereço        Bairro  Quartos  Bathrooms  Metros Quadrados  \\\n",
       "0   78 Regent Street  Notting Hill        2          3               179   \n",
       "1  198 Oxford Street   Westminster        2          1               123   \n",
       "\n",
       "   Idade da Construção  Jardim  Garagem  Andares Tipo de Propriedade  \\\n",
       "0                   72       0        0        3            Geminada   \n",
       "1                   34       1        0        1         Apartamento   \n",
       "\n",
       "  Tipo de Aquecimento              Sacada Estilo do Interior   Vista  \\\n",
       "0    Electric Heating  High-level Balcony         Industrial  Garden   \n",
       "1     Central Heating  High-level Balcony         Industrial    City   \n",
       "\n",
       "           Materiais Status da Construção  Preço (em euros)  \n",
       "0             Marble            Renovated           2291200  \n",
       "1  Laminate Flooring                  Old           1476000  "
      ]
     },
     "execution_count": 14,
     "metadata": {},
     "output_type": "execute_result"
    }
   ],
   "source": [
    "df.head(2)"
   ]
  },
  {
   "cell_type": "markdown",
   "id": "d4b40e5c",
   "metadata": {},
   "source": [
    "### Visualizando os tipos de aquecimentos"
   ]
  },
  {
   "cell_type": "code",
   "execution_count": 15,
   "id": "fa7ad13d",
   "metadata": {},
   "outputs": [
    {
     "data": {
      "text/plain": [
       "array(['Electric Heating', 'Central Heating', 'Underfloor Heating',\n",
       "       'Gas Heating'], dtype=object)"
      ]
     },
     "execution_count": 15,
     "metadata": {},
     "output_type": "execute_result"
    }
   ],
   "source": [
    "df['Tipo de Aquecimento'].unique()"
   ]
  },
  {
   "cell_type": "markdown",
   "id": "cbbb7f9e",
   "metadata": {},
   "source": [
    "### Traduzindo os tipos de aquecimento para português"
   ]
  },
  {
   "cell_type": "code",
   "execution_count": 16,
   "id": "53b6541d",
   "metadata": {},
   "outputs": [
    {
     "data": {
      "text/plain": [
       "array(['Elétrico', 'Central', 'Piso', 'Gás'], dtype=object)"
      ]
     },
     "execution_count": 16,
     "metadata": {},
     "output_type": "execute_result"
    }
   ],
   "source": [
    "tipos_aquecimento = {\n",
    "    'Electric Heating': 'Elétrico',\n",
    "    'Central Heating': 'Central',\n",
    "    'Underfloor Heating': 'Piso',\n",
    "    'Gas Heating': 'Gás'\n",
    "}\n",
    "\n",
    "df['Tipo de Aquecimento'] = df['Tipo de Aquecimento'].replace(tipos_aquecimento)\n",
    "df['Tipo de Aquecimento'].unique()"
   ]
  },
  {
   "cell_type": "code",
   "execution_count": 17,
   "id": "228a2d76",
   "metadata": {},
   "outputs": [
    {
     "data": {
      "text/plain": [
       "array(['High-level Balcony', 'No Balcony', 'Low-level Balcony'],\n",
       "      dtype=object)"
      ]
     },
     "execution_count": 17,
     "metadata": {},
     "output_type": "execute_result"
    }
   ],
   "source": [
    "df['Sacada'].unique()"
   ]
  },
  {
   "cell_type": "code",
   "execution_count": 18,
   "id": "37f530fe",
   "metadata": {},
   "outputs": [
    {
     "data": {
      "text/plain": [
       "array(['Sacada de alto nível', 'Sem sacada', 'Sacada de baixo nível'],\n",
       "      dtype=object)"
      ]
     },
     "execution_count": 18,
     "metadata": {},
     "output_type": "execute_result"
    }
   ],
   "source": [
    "tipos_sacada = {\n",
    "    'High-level Balcony': 'Sacada de alto nível',\n",
    "    'No Balcony': 'Sem sacada',\n",
    "    'Low-level Balcony': 'Sacada de baixo nível'\n",
    "}\n",
    "\n",
    "df['Sacada'] = df['Sacada'].replace(tipos_sacada)\n",
    "df['Sacada'].unique()"
   ]
  },
  {
   "cell_type": "code",
   "execution_count": 19,
   "id": "5e4feca8",
   "metadata": {},
   "outputs": [
    {
     "data": {
      "text/html": [
       "<div>\n",
       "<style scoped>\n",
       "    .dataframe tbody tr th:only-of-type {\n",
       "        vertical-align: middle;\n",
       "    }\n",
       "\n",
       "    .dataframe tbody tr th {\n",
       "        vertical-align: top;\n",
       "    }\n",
       "\n",
       "    .dataframe thead th {\n",
       "        text-align: right;\n",
       "    }\n",
       "</style>\n",
       "<table border=\"1\" class=\"dataframe\">\n",
       "  <thead>\n",
       "    <tr style=\"text-align: right;\">\n",
       "      <th></th>\n",
       "      <th>Endereço</th>\n",
       "      <th>Bairro</th>\n",
       "      <th>Quartos</th>\n",
       "      <th>Bathrooms</th>\n",
       "      <th>Metros Quadrados</th>\n",
       "      <th>Idade da Construção</th>\n",
       "      <th>Jardim</th>\n",
       "      <th>Garagem</th>\n",
       "      <th>Andares</th>\n",
       "      <th>Tipo de Propriedade</th>\n",
       "      <th>Tipo de Aquecimento</th>\n",
       "      <th>Sacada</th>\n",
       "      <th>Estilo do Interior</th>\n",
       "      <th>Vista</th>\n",
       "      <th>Materiais</th>\n",
       "      <th>Status da Construção</th>\n",
       "      <th>Preço (em euros)</th>\n",
       "    </tr>\n",
       "  </thead>\n",
       "  <tbody>\n",
       "    <tr>\n",
       "      <th>0</th>\n",
       "      <td>78 Regent Street</td>\n",
       "      <td>Notting Hill</td>\n",
       "      <td>2</td>\n",
       "      <td>3</td>\n",
       "      <td>179</td>\n",
       "      <td>72</td>\n",
       "      <td>0</td>\n",
       "      <td>0</td>\n",
       "      <td>3</td>\n",
       "      <td>Geminada</td>\n",
       "      <td>Elétrico</td>\n",
       "      <td>Sacada de alto nível</td>\n",
       "      <td>Industrial</td>\n",
       "      <td>Garden</td>\n",
       "      <td>Marble</td>\n",
       "      <td>Renovated</td>\n",
       "      <td>2291200</td>\n",
       "    </tr>\n",
       "    <tr>\n",
       "      <th>1</th>\n",
       "      <td>198 Oxford Street</td>\n",
       "      <td>Westminster</td>\n",
       "      <td>2</td>\n",
       "      <td>1</td>\n",
       "      <td>123</td>\n",
       "      <td>34</td>\n",
       "      <td>1</td>\n",
       "      <td>0</td>\n",
       "      <td>1</td>\n",
       "      <td>Apartamento</td>\n",
       "      <td>Central</td>\n",
       "      <td>Sacada de alto nível</td>\n",
       "      <td>Industrial</td>\n",
       "      <td>City</td>\n",
       "      <td>Laminate Flooring</td>\n",
       "      <td>Old</td>\n",
       "      <td>1476000</td>\n",
       "    </tr>\n",
       "  </tbody>\n",
       "</table>\n",
       "</div>"
      ],
      "text/plain": [
       "            Endereço        Bairro  Quartos  Bathrooms  Metros Quadrados  \\\n",
       "0   78 Regent Street  Notting Hill        2          3               179   \n",
       "1  198 Oxford Street   Westminster        2          1               123   \n",
       "\n",
       "   Idade da Construção  Jardim  Garagem  Andares Tipo de Propriedade  \\\n",
       "0                   72       0        0        3            Geminada   \n",
       "1                   34       1        0        1         Apartamento   \n",
       "\n",
       "  Tipo de Aquecimento                Sacada Estilo do Interior   Vista  \\\n",
       "0            Elétrico  Sacada de alto nível         Industrial  Garden   \n",
       "1             Central  Sacada de alto nível         Industrial    City   \n",
       "\n",
       "           Materiais Status da Construção  Preço (em euros)  \n",
       "0             Marble            Renovated           2291200  \n",
       "1  Laminate Flooring                  Old           1476000  "
      ]
     },
     "execution_count": 19,
     "metadata": {},
     "output_type": "execute_result"
    }
   ],
   "source": [
    "df.head(2)"
   ]
  },
  {
   "cell_type": "code",
   "execution_count": 20,
   "id": "53d5dd83",
   "metadata": {},
   "outputs": [
    {
     "data": {
      "text/plain": [
       "array(['Industrial', 'Classic', 'Modern', 'Minimalist'], dtype=object)"
      ]
     },
     "execution_count": 20,
     "metadata": {},
     "output_type": "execute_result"
    }
   ],
   "source": [
    "df['Estilo do Interior'].unique()"
   ]
  },
  {
   "cell_type": "code",
   "execution_count": 21,
   "id": "bc1068b2",
   "metadata": {},
   "outputs": [
    {
     "data": {
      "text/plain": [
       "array(['Industrial', 'Clássico', 'Moderno', 'Minimalista'], dtype=object)"
      ]
     },
     "execution_count": 21,
     "metadata": {},
     "output_type": "execute_result"
    }
   ],
   "source": [
    "estilos_interior = {\n",
    "    'Classic': 'Clássico',\n",
    "    'Modern': 'Moderno',\n",
    "    'Minimalist': 'Minimalista'\n",
    "}\n",
    "\n",
    "df['Estilo do Interior'] = df['Estilo do Interior'].replace(estilos_interior)\n",
    "df['Estilo do Interior'].unique()"
   ]
  },
  {
   "cell_type": "code",
   "execution_count": 22,
   "id": "8e9c9ecf",
   "metadata": {},
   "outputs": [
    {
     "data": {
      "text/html": [
       "<div>\n",
       "<style scoped>\n",
       "    .dataframe tbody tr th:only-of-type {\n",
       "        vertical-align: middle;\n",
       "    }\n",
       "\n",
       "    .dataframe tbody tr th {\n",
       "        vertical-align: top;\n",
       "    }\n",
       "\n",
       "    .dataframe thead th {\n",
       "        text-align: right;\n",
       "    }\n",
       "</style>\n",
       "<table border=\"1\" class=\"dataframe\">\n",
       "  <thead>\n",
       "    <tr style=\"text-align: right;\">\n",
       "      <th></th>\n",
       "      <th>Endereço</th>\n",
       "      <th>Bairro</th>\n",
       "      <th>Quartos</th>\n",
       "      <th>Bathrooms</th>\n",
       "      <th>Metros Quadrados</th>\n",
       "      <th>Idade da Construção</th>\n",
       "      <th>Jardim</th>\n",
       "      <th>Garagem</th>\n",
       "      <th>Andares</th>\n",
       "      <th>Tipo de Propriedade</th>\n",
       "      <th>Tipo de Aquecimento</th>\n",
       "      <th>Sacada</th>\n",
       "      <th>Estilo do Interior</th>\n",
       "      <th>Vista</th>\n",
       "      <th>Materiais</th>\n",
       "      <th>Status da Construção</th>\n",
       "      <th>Preço (em euros)</th>\n",
       "    </tr>\n",
       "  </thead>\n",
       "  <tbody>\n",
       "    <tr>\n",
       "      <th>0</th>\n",
       "      <td>78 Regent Street</td>\n",
       "      <td>Notting Hill</td>\n",
       "      <td>2</td>\n",
       "      <td>3</td>\n",
       "      <td>179</td>\n",
       "      <td>72</td>\n",
       "      <td>0</td>\n",
       "      <td>0</td>\n",
       "      <td>3</td>\n",
       "      <td>Geminada</td>\n",
       "      <td>Elétrico</td>\n",
       "      <td>Sacada de alto nível</td>\n",
       "      <td>Industrial</td>\n",
       "      <td>Garden</td>\n",
       "      <td>Marble</td>\n",
       "      <td>Renovated</td>\n",
       "      <td>2291200</td>\n",
       "    </tr>\n",
       "    <tr>\n",
       "      <th>1</th>\n",
       "      <td>198 Oxford Street</td>\n",
       "      <td>Westminster</td>\n",
       "      <td>2</td>\n",
       "      <td>1</td>\n",
       "      <td>123</td>\n",
       "      <td>34</td>\n",
       "      <td>1</td>\n",
       "      <td>0</td>\n",
       "      <td>1</td>\n",
       "      <td>Apartamento</td>\n",
       "      <td>Central</td>\n",
       "      <td>Sacada de alto nível</td>\n",
       "      <td>Industrial</td>\n",
       "      <td>City</td>\n",
       "      <td>Laminate Flooring</td>\n",
       "      <td>Old</td>\n",
       "      <td>1476000</td>\n",
       "    </tr>\n",
       "    <tr>\n",
       "      <th>2</th>\n",
       "      <td>18 Regent Street</td>\n",
       "      <td>Soho</td>\n",
       "      <td>5</td>\n",
       "      <td>3</td>\n",
       "      <td>168</td>\n",
       "      <td>38</td>\n",
       "      <td>0</td>\n",
       "      <td>1</td>\n",
       "      <td>3</td>\n",
       "      <td>Geminada</td>\n",
       "      <td>Central</td>\n",
       "      <td>Sem sacada</td>\n",
       "      <td>Industrial</td>\n",
       "      <td>Street</td>\n",
       "      <td>Wood</td>\n",
       "      <td>Renovated</td>\n",
       "      <td>1881600</td>\n",
       "    </tr>\n",
       "    <tr>\n",
       "      <th>3</th>\n",
       "      <td>39 Piccadilly Circus</td>\n",
       "      <td>Islington</td>\n",
       "      <td>5</td>\n",
       "      <td>1</td>\n",
       "      <td>237</td>\n",
       "      <td>53</td>\n",
       "      <td>1</td>\n",
       "      <td>1</td>\n",
       "      <td>1</td>\n",
       "      <td>Apartamento</td>\n",
       "      <td>Piso</td>\n",
       "      <td>Sem sacada</td>\n",
       "      <td>Clássico</td>\n",
       "      <td>Park</td>\n",
       "      <td>Granite</td>\n",
       "      <td>Renovated</td>\n",
       "      <td>1896000</td>\n",
       "    </tr>\n",
       "    <tr>\n",
       "      <th>4</th>\n",
       "      <td>116 Fleet Street</td>\n",
       "      <td>Marylebone</td>\n",
       "      <td>4</td>\n",
       "      <td>1</td>\n",
       "      <td>127</td>\n",
       "      <td>23</td>\n",
       "      <td>0</td>\n",
       "      <td>1</td>\n",
       "      <td>2</td>\n",
       "      <td>Geminada</td>\n",
       "      <td>Central</td>\n",
       "      <td>Sem sacada</td>\n",
       "      <td>Moderno</td>\n",
       "      <td>Park</td>\n",
       "      <td>Wood</td>\n",
       "      <td>Old</td>\n",
       "      <td>1524000</td>\n",
       "    </tr>\n",
       "    <tr>\n",
       "      <th>5</th>\n",
       "      <td>32 Bond Street</td>\n",
       "      <td>Notting Hill</td>\n",
       "      <td>5</td>\n",
       "      <td>2</td>\n",
       "      <td>69</td>\n",
       "      <td>69</td>\n",
       "      <td>1</td>\n",
       "      <td>1</td>\n",
       "      <td>2</td>\n",
       "      <td>Apartamento</td>\n",
       "      <td>Central</td>\n",
       "      <td>Sacada de baixo nível</td>\n",
       "      <td>Minimalista</td>\n",
       "      <td>Park</td>\n",
       "      <td>Marble</td>\n",
       "      <td>Renovated</td>\n",
       "      <td>736000</td>\n",
       "    </tr>\n",
       "    <tr>\n",
       "      <th>6</th>\n",
       "      <td>197 Baker Street</td>\n",
       "      <td>Soho</td>\n",
       "      <td>3</td>\n",
       "      <td>3</td>\n",
       "      <td>128</td>\n",
       "      <td>24</td>\n",
       "      <td>1</td>\n",
       "      <td>0</td>\n",
       "      <td>2</td>\n",
       "      <td>Apartamento</td>\n",
       "      <td>Elétrico</td>\n",
       "      <td>Sacada de baixo nível</td>\n",
       "      <td>Clássico</td>\n",
       "      <td>Sea</td>\n",
       "      <td>Laminate Flooring</td>\n",
       "      <td>Old</td>\n",
       "      <td>1194666</td>\n",
       "    </tr>\n",
       "    <tr>\n",
       "      <th>7</th>\n",
       "      <td>86 Fleet Street</td>\n",
       "      <td>Kensington</td>\n",
       "      <td>5</td>\n",
       "      <td>2</td>\n",
       "      <td>130</td>\n",
       "      <td>88</td>\n",
       "      <td>1</td>\n",
       "      <td>0</td>\n",
       "      <td>1</td>\n",
       "      <td>Apartamento</td>\n",
       "      <td>Elétrico</td>\n",
       "      <td>Sem sacada</td>\n",
       "      <td>Minimalista</td>\n",
       "      <td>City</td>\n",
       "      <td>Laminate Flooring</td>\n",
       "      <td>Renovated</td>\n",
       "      <td>1646666</td>\n",
       "    </tr>\n",
       "    <tr>\n",
       "      <th>8</th>\n",
       "      <td>9 Park Lane</td>\n",
       "      <td>Greenwich</td>\n",
       "      <td>5</td>\n",
       "      <td>1</td>\n",
       "      <td>76</td>\n",
       "      <td>2</td>\n",
       "      <td>0</td>\n",
       "      <td>1</td>\n",
       "      <td>3</td>\n",
       "      <td>Apartamento</td>\n",
       "      <td>Elétrico</td>\n",
       "      <td>Sacada de baixo nível</td>\n",
       "      <td>Clássico</td>\n",
       "      <td>Sea</td>\n",
       "      <td>Laminate Flooring</td>\n",
       "      <td>New</td>\n",
       "      <td>506666</td>\n",
       "    </tr>\n",
       "    <tr>\n",
       "      <th>9</th>\n",
       "      <td>50 Strand</td>\n",
       "      <td>Kensington</td>\n",
       "      <td>4</td>\n",
       "      <td>2</td>\n",
       "      <td>59</td>\n",
       "      <td>79</td>\n",
       "      <td>0</td>\n",
       "      <td>0</td>\n",
       "      <td>3</td>\n",
       "      <td>Geminada</td>\n",
       "      <td>Gás</td>\n",
       "      <td>Sem sacada</td>\n",
       "      <td>Clássico</td>\n",
       "      <td>Street</td>\n",
       "      <td>Wood</td>\n",
       "      <td>Old</td>\n",
       "      <td>896799</td>\n",
       "    </tr>\n",
       "  </tbody>\n",
       "</table>\n",
       "</div>"
      ],
      "text/plain": [
       "               Endereço        Bairro  Quartos  Bathrooms  Metros Quadrados  \\\n",
       "0      78 Regent Street  Notting Hill        2          3               179   \n",
       "1     198 Oxford Street   Westminster        2          1               123   \n",
       "2      18 Regent Street          Soho        5          3               168   \n",
       "3  39 Piccadilly Circus     Islington        5          1               237   \n",
       "4      116 Fleet Street    Marylebone        4          1               127   \n",
       "5        32 Bond Street  Notting Hill        5          2                69   \n",
       "6      197 Baker Street          Soho        3          3               128   \n",
       "7       86 Fleet Street    Kensington        5          2               130   \n",
       "8           9 Park Lane     Greenwich        5          1                76   \n",
       "9             50 Strand    Kensington        4          2                59   \n",
       "\n",
       "   Idade da Construção  Jardim  Garagem  Andares Tipo de Propriedade  \\\n",
       "0                   72       0        0        3            Geminada   \n",
       "1                   34       1        0        1         Apartamento   \n",
       "2                   38       0        1        3            Geminada   \n",
       "3                   53       1        1        1         Apartamento   \n",
       "4                   23       0        1        2            Geminada   \n",
       "5                   69       1        1        2         Apartamento   \n",
       "6                   24       1        0        2         Apartamento   \n",
       "7                   88       1        0        1         Apartamento   \n",
       "8                    2       0        1        3         Apartamento   \n",
       "9                   79       0        0        3            Geminada   \n",
       "\n",
       "  Tipo de Aquecimento                 Sacada Estilo do Interior   Vista  \\\n",
       "0            Elétrico   Sacada de alto nível         Industrial  Garden   \n",
       "1             Central   Sacada de alto nível         Industrial    City   \n",
       "2             Central             Sem sacada         Industrial  Street   \n",
       "3                Piso             Sem sacada           Clássico    Park   \n",
       "4             Central             Sem sacada            Moderno    Park   \n",
       "5             Central  Sacada de baixo nível        Minimalista    Park   \n",
       "6            Elétrico  Sacada de baixo nível           Clássico     Sea   \n",
       "7            Elétrico             Sem sacada        Minimalista    City   \n",
       "8            Elétrico  Sacada de baixo nível           Clássico     Sea   \n",
       "9                 Gás             Sem sacada           Clássico  Street   \n",
       "\n",
       "           Materiais Status da Construção  Preço (em euros)  \n",
       "0             Marble            Renovated           2291200  \n",
       "1  Laminate Flooring                  Old           1476000  \n",
       "2               Wood            Renovated           1881600  \n",
       "3            Granite            Renovated           1896000  \n",
       "4               Wood                  Old           1524000  \n",
       "5             Marble            Renovated            736000  \n",
       "6  Laminate Flooring                  Old           1194666  \n",
       "7  Laminate Flooring            Renovated           1646666  \n",
       "8  Laminate Flooring                  New            506666  \n",
       "9               Wood                  Old            896799  "
      ]
     },
     "execution_count": 22,
     "metadata": {},
     "output_type": "execute_result"
    }
   ],
   "source": [
    "df.head(10)"
   ]
  },
  {
   "cell_type": "code",
   "execution_count": 23,
   "id": "e2815994",
   "metadata": {},
   "outputs": [
    {
     "data": {
      "text/plain": [
       "array(['Garden', 'City', 'Street', 'Park', 'Sea'], dtype=object)"
      ]
     },
     "execution_count": 23,
     "metadata": {},
     "output_type": "execute_result"
    }
   ],
   "source": [
    "df['Vista'].unique()"
   ]
  },
  {
   "cell_type": "code",
   "execution_count": 24,
   "id": "477780d9",
   "metadata": {},
   "outputs": [],
   "source": [
    "vistas = {\n",
    "    'Garden': 'Jardim',\n",
    "    'City': 'Cidade',\n",
    "    'Street': 'Rua',\n",
    "    'Park': 'Parque',\n",
    "    'Sea': 'Mar'\n",
    "}\n",
    "\n",
    "df['Vista'] = df['Vista'].replace(vistas)"
   ]
  },
  {
   "cell_type": "code",
   "execution_count": 25,
   "id": "2db30d8d",
   "metadata": {},
   "outputs": [
    {
     "data": {
      "text/plain": [
       "array(['Jardim', 'Cidade', 'Rua', 'Parque', 'Mar'], dtype=object)"
      ]
     },
     "execution_count": 25,
     "metadata": {},
     "output_type": "execute_result"
    }
   ],
   "source": [
    "df['Vista'].unique()"
   ]
  },
  {
   "cell_type": "code",
   "execution_count": 26,
   "id": "5e13ca3a",
   "metadata": {},
   "outputs": [
    {
     "data": {
      "text/html": [
       "<div>\n",
       "<style scoped>\n",
       "    .dataframe tbody tr th:only-of-type {\n",
       "        vertical-align: middle;\n",
       "    }\n",
       "\n",
       "    .dataframe tbody tr th {\n",
       "        vertical-align: top;\n",
       "    }\n",
       "\n",
       "    .dataframe thead th {\n",
       "        text-align: right;\n",
       "    }\n",
       "</style>\n",
       "<table border=\"1\" class=\"dataframe\">\n",
       "  <thead>\n",
       "    <tr style=\"text-align: right;\">\n",
       "      <th></th>\n",
       "      <th>Endereço</th>\n",
       "      <th>Bairro</th>\n",
       "      <th>Quartos</th>\n",
       "      <th>Bathrooms</th>\n",
       "      <th>Metros Quadrados</th>\n",
       "      <th>Idade da Construção</th>\n",
       "      <th>Jardim</th>\n",
       "      <th>Garagem</th>\n",
       "      <th>Andares</th>\n",
       "      <th>Tipo de Propriedade</th>\n",
       "      <th>Tipo de Aquecimento</th>\n",
       "      <th>Sacada</th>\n",
       "      <th>Estilo do Interior</th>\n",
       "      <th>Vista</th>\n",
       "      <th>Materiais</th>\n",
       "      <th>Status da Construção</th>\n",
       "      <th>Preço (em euros)</th>\n",
       "    </tr>\n",
       "  </thead>\n",
       "  <tbody>\n",
       "    <tr>\n",
       "      <th>0</th>\n",
       "      <td>78 Regent Street</td>\n",
       "      <td>Notting Hill</td>\n",
       "      <td>2</td>\n",
       "      <td>3</td>\n",
       "      <td>179</td>\n",
       "      <td>72</td>\n",
       "      <td>0</td>\n",
       "      <td>0</td>\n",
       "      <td>3</td>\n",
       "      <td>Geminada</td>\n",
       "      <td>Elétrico</td>\n",
       "      <td>Sacada de alto nível</td>\n",
       "      <td>Industrial</td>\n",
       "      <td>Jardim</td>\n",
       "      <td>Marble</td>\n",
       "      <td>Renovated</td>\n",
       "      <td>2291200</td>\n",
       "    </tr>\n",
       "  </tbody>\n",
       "</table>\n",
       "</div>"
      ],
      "text/plain": [
       "           Endereço        Bairro  Quartos  Bathrooms  Metros Quadrados  \\\n",
       "0  78 Regent Street  Notting Hill        2          3               179   \n",
       "\n",
       "   Idade da Construção  Jardim  Garagem  Andares Tipo de Propriedade  \\\n",
       "0                   72       0        0        3            Geminada   \n",
       "\n",
       "  Tipo de Aquecimento                Sacada Estilo do Interior   Vista  \\\n",
       "0            Elétrico  Sacada de alto nível         Industrial  Jardim   \n",
       "\n",
       "  Materiais Status da Construção  Preço (em euros)  \n",
       "0    Marble            Renovated           2291200  "
      ]
     },
     "execution_count": 26,
     "metadata": {},
     "output_type": "execute_result"
    }
   ],
   "source": [
    "df.head(1)"
   ]
  },
  {
   "cell_type": "code",
   "execution_count": 27,
   "id": "cf5f2d47",
   "metadata": {},
   "outputs": [
    {
     "data": {
      "text/plain": [
       "array(['Marble', 'Laminate Flooring', 'Wood', 'Granite'], dtype=object)"
      ]
     },
     "execution_count": 27,
     "metadata": {},
     "output_type": "execute_result"
    }
   ],
   "source": [
    "df['Materiais'].unique()"
   ]
  },
  {
   "cell_type": "code",
   "execution_count": 28,
   "id": "3145ae44",
   "metadata": {},
   "outputs": [
    {
     "data": {
      "text/plain": [
       "array(['Mármore', 'Piso Laminado', 'Madeira', 'Granito'], dtype=object)"
      ]
     },
     "execution_count": 28,
     "metadata": {},
     "output_type": "execute_result"
    }
   ],
   "source": [
    "materiais = {\n",
    "    'Marble': 'Mármore',\n",
    "    'Laminate Flooring': 'Piso Laminado',\n",
    "    'Wood': 'Madeira',\n",
    "    'Granite': 'Granito'\n",
    "}\n",
    "df['Materiais'] = df['Materiais'].replace(materiais)\n",
    "df['Materiais'].unique()"
   ]
  },
  {
   "cell_type": "code",
   "execution_count": 29,
   "id": "d89a172b",
   "metadata": {},
   "outputs": [
    {
     "data": {
      "text/plain": [
       "array(['Renovated', 'Old', 'New'], dtype=object)"
      ]
     },
     "execution_count": 29,
     "metadata": {},
     "output_type": "execute_result"
    }
   ],
   "source": [
    "df['Status da Construção'].unique()"
   ]
  },
  {
   "cell_type": "code",
   "execution_count": null,
   "id": "a43c63a0",
   "metadata": {},
   "outputs": [],
   "source": [
    "status = {\n",
    "    'Renovated': 'Renovada',\n",
    "    'Old': 'Velha',\n",
    "    'New': 'Nova'\n",
    "}\n",
    "df['Status da Construção'] = df['Status da Construção'].replace(status)\n"
   ]
  },
  {
   "cell_type": "code",
   "execution_count": 31,
   "id": "dc00a520",
   "metadata": {},
   "outputs": [
    {
     "data": {
      "text/plain": [
       "array(['Renovada', 'Velha', 'Nova'], dtype=object)"
      ]
     },
     "execution_count": 31,
     "metadata": {},
     "output_type": "execute_result"
    }
   ],
   "source": [
    "df['Status da Construção'].unique()"
   ]
  },
  {
   "cell_type": "code",
   "execution_count": 32,
   "id": "dcbe8b3f",
   "metadata": {},
   "outputs": [
    {
     "data": {
      "text/html": [
       "<div>\n",
       "<style scoped>\n",
       "    .dataframe tbody tr th:only-of-type {\n",
       "        vertical-align: middle;\n",
       "    }\n",
       "\n",
       "    .dataframe tbody tr th {\n",
       "        vertical-align: top;\n",
       "    }\n",
       "\n",
       "    .dataframe thead th {\n",
       "        text-align: right;\n",
       "    }\n",
       "</style>\n",
       "<table border=\"1\" class=\"dataframe\">\n",
       "  <thead>\n",
       "    <tr style=\"text-align: right;\">\n",
       "      <th></th>\n",
       "      <th>Endereço</th>\n",
       "      <th>Bairro</th>\n",
       "      <th>Quartos</th>\n",
       "      <th>Bathrooms</th>\n",
       "      <th>Metros Quadrados</th>\n",
       "      <th>Idade da Construção</th>\n",
       "      <th>Jardim</th>\n",
       "      <th>Garagem</th>\n",
       "      <th>Andares</th>\n",
       "      <th>Tipo de Propriedade</th>\n",
       "      <th>Tipo de Aquecimento</th>\n",
       "      <th>Sacada</th>\n",
       "      <th>Estilo do Interior</th>\n",
       "      <th>Vista</th>\n",
       "      <th>Materiais</th>\n",
       "      <th>Status da Construção</th>\n",
       "      <th>Preço (em euros)</th>\n",
       "    </tr>\n",
       "  </thead>\n",
       "  <tbody>\n",
       "    <tr>\n",
       "      <th>0</th>\n",
       "      <td>78 Regent Street</td>\n",
       "      <td>Notting Hill</td>\n",
       "      <td>2</td>\n",
       "      <td>3</td>\n",
       "      <td>179</td>\n",
       "      <td>72</td>\n",
       "      <td>0</td>\n",
       "      <td>0</td>\n",
       "      <td>3</td>\n",
       "      <td>Geminada</td>\n",
       "      <td>Elétrico</td>\n",
       "      <td>Sacada de alto nível</td>\n",
       "      <td>Industrial</td>\n",
       "      <td>Jardim</td>\n",
       "      <td>Mármore</td>\n",
       "      <td>Renovada</td>\n",
       "      <td>2291200</td>\n",
       "    </tr>\n",
       "  </tbody>\n",
       "</table>\n",
       "</div>"
      ],
      "text/plain": [
       "           Endereço        Bairro  Quartos  Bathrooms  Metros Quadrados  \\\n",
       "0  78 Regent Street  Notting Hill        2          3               179   \n",
       "\n",
       "   Idade da Construção  Jardim  Garagem  Andares Tipo de Propriedade  \\\n",
       "0                   72       0        0        3            Geminada   \n",
       "\n",
       "  Tipo de Aquecimento                Sacada Estilo do Interior   Vista  \\\n",
       "0            Elétrico  Sacada de alto nível         Industrial  Jardim   \n",
       "\n",
       "  Materiais Status da Construção  Preço (em euros)  \n",
       "0   Mármore             Renovada           2291200  "
      ]
     },
     "execution_count": 32,
     "metadata": {},
     "output_type": "execute_result"
    }
   ],
   "source": [
    "df.head(1)"
   ]
  }
 ],
 "metadata": {
  "kernelspec": {
   "display_name": "Python 3",
   "language": "python",
   "name": "python3"
  },
  "language_info": {
   "codemirror_mode": {
    "name": "ipython",
    "version": 3
   },
   "file_extension": ".py",
   "mimetype": "text/x-python",
   "name": "python",
   "nbconvert_exporter": "python",
   "pygments_lexer": "ipython3",
   "version": "3.13.3"
  }
 },
 "nbformat": 4,
 "nbformat_minor": 5
}
