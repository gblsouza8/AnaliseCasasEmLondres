{
 "cells": [
  {
   "cell_type": "code",
   "execution_count": 35,
   "id": "49f07e0c",
   "metadata": {},
   "outputs": [],
   "source": [
    "import pandas as pd"
   ]
  },
  {
   "cell_type": "markdown",
   "id": "de63208d",
   "metadata": {},
   "source": [
    "### Importando o DF (Baixado do Kraggle: https://www.kaggle.com/datasets/oktayrdeki/houses-in-london/data)"
   ]
  },
  {
   "cell_type": "code",
   "execution_count": 36,
   "id": "d681dc2d",
   "metadata": {},
   "outputs": [],
   "source": [
    "df=pd.read_csv('london_houses.csv')"
   ]
  },
  {
   "cell_type": "markdown",
   "id": "9d6314ca",
   "metadata": {},
   "source": [
    "### Topo do DF"
   ]
  },
  {
   "cell_type": "code",
   "execution_count": 37,
   "id": "d616927f",
   "metadata": {},
   "outputs": [
    {
     "data": {
      "text/html": [
       "<div>\n",
       "<style scoped>\n",
       "    .dataframe tbody tr th:only-of-type {\n",
       "        vertical-align: middle;\n",
       "    }\n",
       "\n",
       "    .dataframe tbody tr th {\n",
       "        vertical-align: top;\n",
       "    }\n",
       "\n",
       "    .dataframe thead th {\n",
       "        text-align: right;\n",
       "    }\n",
       "</style>\n",
       "<table border=\"1\" class=\"dataframe\">\n",
       "  <thead>\n",
       "    <tr style=\"text-align: right;\">\n",
       "      <th></th>\n",
       "      <th>Address</th>\n",
       "      <th>Neighborhood</th>\n",
       "      <th>Bedrooms</th>\n",
       "      <th>Bathrooms</th>\n",
       "      <th>Square Meters</th>\n",
       "      <th>Building Age</th>\n",
       "      <th>Garden</th>\n",
       "      <th>Garage</th>\n",
       "      <th>Floors</th>\n",
       "      <th>Property Type</th>\n",
       "      <th>Heating Type</th>\n",
       "      <th>Balcony</th>\n",
       "      <th>Interior Style</th>\n",
       "      <th>View</th>\n",
       "      <th>Materials</th>\n",
       "      <th>Building Status</th>\n",
       "      <th>Price (£)</th>\n",
       "    </tr>\n",
       "  </thead>\n",
       "  <tbody>\n",
       "    <tr>\n",
       "      <th>0</th>\n",
       "      <td>78 Regent Street</td>\n",
       "      <td>Notting Hill</td>\n",
       "      <td>2</td>\n",
       "      <td>3</td>\n",
       "      <td>179</td>\n",
       "      <td>72</td>\n",
       "      <td>No</td>\n",
       "      <td>No</td>\n",
       "      <td>3</td>\n",
       "      <td>Semi-Detached</td>\n",
       "      <td>Electric Heating</td>\n",
       "      <td>High-level Balcony</td>\n",
       "      <td>Industrial</td>\n",
       "      <td>Garden</td>\n",
       "      <td>Marble</td>\n",
       "      <td>Renovated</td>\n",
       "      <td>2291200</td>\n",
       "    </tr>\n",
       "    <tr>\n",
       "      <th>1</th>\n",
       "      <td>198 Oxford Street</td>\n",
       "      <td>Westminster</td>\n",
       "      <td>2</td>\n",
       "      <td>1</td>\n",
       "      <td>123</td>\n",
       "      <td>34</td>\n",
       "      <td>Yes</td>\n",
       "      <td>No</td>\n",
       "      <td>1</td>\n",
       "      <td>Apartment</td>\n",
       "      <td>Central Heating</td>\n",
       "      <td>High-level Balcony</td>\n",
       "      <td>Industrial</td>\n",
       "      <td>City</td>\n",
       "      <td>Laminate Flooring</td>\n",
       "      <td>Old</td>\n",
       "      <td>1476000</td>\n",
       "    </tr>\n",
       "    <tr>\n",
       "      <th>2</th>\n",
       "      <td>18 Regent Street</td>\n",
       "      <td>Soho</td>\n",
       "      <td>5</td>\n",
       "      <td>3</td>\n",
       "      <td>168</td>\n",
       "      <td>38</td>\n",
       "      <td>No</td>\n",
       "      <td>Yes</td>\n",
       "      <td>3</td>\n",
       "      <td>Semi-Detached</td>\n",
       "      <td>Central Heating</td>\n",
       "      <td>No Balcony</td>\n",
       "      <td>Industrial</td>\n",
       "      <td>Street</td>\n",
       "      <td>Wood</td>\n",
       "      <td>Renovated</td>\n",
       "      <td>1881600</td>\n",
       "    </tr>\n",
       "    <tr>\n",
       "      <th>3</th>\n",
       "      <td>39 Piccadilly Circus</td>\n",
       "      <td>Islington</td>\n",
       "      <td>5</td>\n",
       "      <td>1</td>\n",
       "      <td>237</td>\n",
       "      <td>53</td>\n",
       "      <td>Yes</td>\n",
       "      <td>Yes</td>\n",
       "      <td>1</td>\n",
       "      <td>Apartment</td>\n",
       "      <td>Underfloor Heating</td>\n",
       "      <td>No Balcony</td>\n",
       "      <td>Classic</td>\n",
       "      <td>Park</td>\n",
       "      <td>Granite</td>\n",
       "      <td>Renovated</td>\n",
       "      <td>1896000</td>\n",
       "    </tr>\n",
       "    <tr>\n",
       "      <th>4</th>\n",
       "      <td>116 Fleet Street</td>\n",
       "      <td>Marylebone</td>\n",
       "      <td>4</td>\n",
       "      <td>1</td>\n",
       "      <td>127</td>\n",
       "      <td>23</td>\n",
       "      <td>No</td>\n",
       "      <td>Yes</td>\n",
       "      <td>2</td>\n",
       "      <td>Semi-Detached</td>\n",
       "      <td>Central Heating</td>\n",
       "      <td>No Balcony</td>\n",
       "      <td>Modern</td>\n",
       "      <td>Park</td>\n",
       "      <td>Wood</td>\n",
       "      <td>Old</td>\n",
       "      <td>1524000</td>\n",
       "    </tr>\n",
       "  </tbody>\n",
       "</table>\n",
       "</div>"
      ],
      "text/plain": [
       "                Address  Neighborhood  Bedrooms  Bathrooms  Square Meters  \\\n",
       "0      78 Regent Street  Notting Hill         2          3            179   \n",
       "1     198 Oxford Street   Westminster         2          1            123   \n",
       "2      18 Regent Street          Soho         5          3            168   \n",
       "3  39 Piccadilly Circus     Islington         5          1            237   \n",
       "4      116 Fleet Street    Marylebone         4          1            127   \n",
       "\n",
       "   Building Age Garden Garage  Floors  Property Type        Heating Type  \\\n",
       "0            72     No     No       3  Semi-Detached    Electric Heating   \n",
       "1            34    Yes     No       1      Apartment     Central Heating   \n",
       "2            38     No    Yes       3  Semi-Detached     Central Heating   \n",
       "3            53    Yes    Yes       1      Apartment  Underfloor Heating   \n",
       "4            23     No    Yes       2  Semi-Detached     Central Heating   \n",
       "\n",
       "              Balcony Interior Style    View          Materials  \\\n",
       "0  High-level Balcony     Industrial  Garden             Marble   \n",
       "1  High-level Balcony     Industrial    City  Laminate Flooring   \n",
       "2          No Balcony     Industrial  Street               Wood   \n",
       "3          No Balcony        Classic    Park            Granite   \n",
       "4          No Balcony         Modern    Park               Wood   \n",
       "\n",
       "  Building Status  Price (£)  \n",
       "0       Renovated    2291200  \n",
       "1             Old    1476000  \n",
       "2       Renovated    1881600  \n",
       "3       Renovated    1896000  \n",
       "4             Old    1524000  "
      ]
     },
     "execution_count": 37,
     "metadata": {},
     "output_type": "execute_result"
    }
   ],
   "source": [
    "df.head()"
   ]
  },
  {
   "cell_type": "code",
   "execution_count": 38,
   "id": "4fcf4ca9",
   "metadata": {},
   "outputs": [
    {
     "name": "stdout",
     "output_type": "stream",
     "text": [
      "<class 'pandas.core.frame.DataFrame'>\n",
      "RangeIndex: 1000 entries, 0 to 999\n",
      "Data columns (total 17 columns):\n",
      " #   Column           Non-Null Count  Dtype \n",
      "---  ------           --------------  ----- \n",
      " 0   Address          1000 non-null   object\n",
      " 1   Neighborhood     1000 non-null   object\n",
      " 2   Bedrooms         1000 non-null   int64 \n",
      " 3   Bathrooms        1000 non-null   int64 \n",
      " 4   Square Meters    1000 non-null   int64 \n",
      " 5   Building Age     1000 non-null   int64 \n",
      " 6   Garden           1000 non-null   object\n",
      " 7   Garage           1000 non-null   object\n",
      " 8   Floors           1000 non-null   int64 \n",
      " 9   Property Type    1000 non-null   object\n",
      " 10  Heating Type     1000 non-null   object\n",
      " 11  Balcony          1000 non-null   object\n",
      " 12  Interior Style   1000 non-null   object\n",
      " 13  View             1000 non-null   object\n",
      " 14  Materials        1000 non-null   object\n",
      " 15  Building Status  1000 non-null   object\n",
      " 16  Price (£)        1000 non-null   int64 \n",
      "dtypes: int64(6), object(11)\n",
      "memory usage: 132.9+ KB\n"
     ]
    }
   ],
   "source": [
    "df.info()"
   ]
  },
  {
   "cell_type": "markdown",
   "id": "c14ce561",
   "metadata": {},
   "source": [
    "### Contando os valores null"
   ]
  },
  {
   "cell_type": "code",
   "execution_count": 39,
   "id": "b0855383",
   "metadata": {},
   "outputs": [
    {
     "data": {
      "text/plain": [
       "Address            0\n",
       "Neighborhood       0\n",
       "Bedrooms           0\n",
       "Bathrooms          0\n",
       "Square Meters      0\n",
       "Building Age       0\n",
       "Garden             0\n",
       "Garage             0\n",
       "Floors             0\n",
       "Property Type      0\n",
       "Heating Type       0\n",
       "Balcony            0\n",
       "Interior Style     0\n",
       "View               0\n",
       "Materials          0\n",
       "Building Status    0\n",
       "Price (£)          0\n",
       "dtype: int64"
      ]
     },
     "execution_count": 39,
     "metadata": {},
     "output_type": "execute_result"
    }
   ],
   "source": [
    "df.isnull().sum()"
   ]
  },
  {
   "cell_type": "markdown",
   "id": "1203d00d",
   "metadata": {},
   "source": [
    "### Exibindo as colunas que tem no DataFrame"
   ]
  },
  {
   "cell_type": "code",
   "execution_count": 40,
   "id": "2606c9a9",
   "metadata": {},
   "outputs": [
    {
     "data": {
      "text/plain": [
       "Index(['Address', 'Neighborhood', 'Bedrooms', 'Bathrooms', 'Square Meters',\n",
       "       'Building Age', 'Garden', 'Garage', 'Floors', 'Property Type',\n",
       "       'Heating Type', 'Balcony', 'Interior Style', 'View', 'Materials',\n",
       "       'Building Status', 'Price (£)'],\n",
       "      dtype='object')"
      ]
     },
     "execution_count": 40,
     "metadata": {},
     "output_type": "execute_result"
    }
   ],
   "source": [
    "df.columns"
   ]
  },
  {
   "cell_type": "markdown",
   "id": "8311f255",
   "metadata": {},
   "source": [
    "### Criando um dicionário e traduzindo as colunas"
   ]
  },
  {
   "cell_type": "code",
   "execution_count": 41,
   "id": "15252180",
   "metadata": {},
   "outputs": [
    {
     "data": {
      "text/html": [
       "<div>\n",
       "<style scoped>\n",
       "    .dataframe tbody tr th:only-of-type {\n",
       "        vertical-align: middle;\n",
       "    }\n",
       "\n",
       "    .dataframe tbody tr th {\n",
       "        vertical-align: top;\n",
       "    }\n",
       "\n",
       "    .dataframe thead th {\n",
       "        text-align: right;\n",
       "    }\n",
       "</style>\n",
       "<table border=\"1\" class=\"dataframe\">\n",
       "  <thead>\n",
       "    <tr style=\"text-align: right;\">\n",
       "      <th></th>\n",
       "      <th>Endereço</th>\n",
       "      <th>Bairro</th>\n",
       "      <th>Quartos</th>\n",
       "      <th>Bathrooms</th>\n",
       "      <th>Metros Quadrados</th>\n",
       "      <th>Idade da Construção</th>\n",
       "      <th>Jardim</th>\n",
       "      <th>Garagem</th>\n",
       "      <th>Andares</th>\n",
       "      <th>Tipo de Propriedade</th>\n",
       "      <th>Tipo de Aquecimento</th>\n",
       "      <th>Sacada</th>\n",
       "      <th>Estilo do Interior</th>\n",
       "      <th>Vista</th>\n",
       "      <th>Materiais</th>\n",
       "      <th>Status da Construção</th>\n",
       "      <th>Preço (em euros)</th>\n",
       "    </tr>\n",
       "  </thead>\n",
       "  <tbody>\n",
       "    <tr>\n",
       "      <th>0</th>\n",
       "      <td>78 Regent Street</td>\n",
       "      <td>Notting Hill</td>\n",
       "      <td>2</td>\n",
       "      <td>3</td>\n",
       "      <td>179</td>\n",
       "      <td>72</td>\n",
       "      <td>No</td>\n",
       "      <td>No</td>\n",
       "      <td>3</td>\n",
       "      <td>Semi-Detached</td>\n",
       "      <td>Electric Heating</td>\n",
       "      <td>High-level Balcony</td>\n",
       "      <td>Industrial</td>\n",
       "      <td>Garden</td>\n",
       "      <td>Marble</td>\n",
       "      <td>Renovated</td>\n",
       "      <td>2291200</td>\n",
       "    </tr>\n",
       "    <tr>\n",
       "      <th>1</th>\n",
       "      <td>198 Oxford Street</td>\n",
       "      <td>Westminster</td>\n",
       "      <td>2</td>\n",
       "      <td>1</td>\n",
       "      <td>123</td>\n",
       "      <td>34</td>\n",
       "      <td>Yes</td>\n",
       "      <td>No</td>\n",
       "      <td>1</td>\n",
       "      <td>Apartment</td>\n",
       "      <td>Central Heating</td>\n",
       "      <td>High-level Balcony</td>\n",
       "      <td>Industrial</td>\n",
       "      <td>City</td>\n",
       "      <td>Laminate Flooring</td>\n",
       "      <td>Old</td>\n",
       "      <td>1476000</td>\n",
       "    </tr>\n",
       "    <tr>\n",
       "      <th>2</th>\n",
       "      <td>18 Regent Street</td>\n",
       "      <td>Soho</td>\n",
       "      <td>5</td>\n",
       "      <td>3</td>\n",
       "      <td>168</td>\n",
       "      <td>38</td>\n",
       "      <td>No</td>\n",
       "      <td>Yes</td>\n",
       "      <td>3</td>\n",
       "      <td>Semi-Detached</td>\n",
       "      <td>Central Heating</td>\n",
       "      <td>No Balcony</td>\n",
       "      <td>Industrial</td>\n",
       "      <td>Street</td>\n",
       "      <td>Wood</td>\n",
       "      <td>Renovated</td>\n",
       "      <td>1881600</td>\n",
       "    </tr>\n",
       "    <tr>\n",
       "      <th>3</th>\n",
       "      <td>39 Piccadilly Circus</td>\n",
       "      <td>Islington</td>\n",
       "      <td>5</td>\n",
       "      <td>1</td>\n",
       "      <td>237</td>\n",
       "      <td>53</td>\n",
       "      <td>Yes</td>\n",
       "      <td>Yes</td>\n",
       "      <td>1</td>\n",
       "      <td>Apartment</td>\n",
       "      <td>Underfloor Heating</td>\n",
       "      <td>No Balcony</td>\n",
       "      <td>Classic</td>\n",
       "      <td>Park</td>\n",
       "      <td>Granite</td>\n",
       "      <td>Renovated</td>\n",
       "      <td>1896000</td>\n",
       "    </tr>\n",
       "    <tr>\n",
       "      <th>4</th>\n",
       "      <td>116 Fleet Street</td>\n",
       "      <td>Marylebone</td>\n",
       "      <td>4</td>\n",
       "      <td>1</td>\n",
       "      <td>127</td>\n",
       "      <td>23</td>\n",
       "      <td>No</td>\n",
       "      <td>Yes</td>\n",
       "      <td>2</td>\n",
       "      <td>Semi-Detached</td>\n",
       "      <td>Central Heating</td>\n",
       "      <td>No Balcony</td>\n",
       "      <td>Modern</td>\n",
       "      <td>Park</td>\n",
       "      <td>Wood</td>\n",
       "      <td>Old</td>\n",
       "      <td>1524000</td>\n",
       "    </tr>\n",
       "  </tbody>\n",
       "</table>\n",
       "</div>"
      ],
      "text/plain": [
       "               Endereço        Bairro  Quartos  Bathrooms  Metros Quadrados  \\\n",
       "0      78 Regent Street  Notting Hill        2          3               179   \n",
       "1     198 Oxford Street   Westminster        2          1               123   \n",
       "2      18 Regent Street          Soho        5          3               168   \n",
       "3  39 Piccadilly Circus     Islington        5          1               237   \n",
       "4      116 Fleet Street    Marylebone        4          1               127   \n",
       "\n",
       "   Idade da Construção Jardim Garagem  Andares Tipo de Propriedade  \\\n",
       "0                   72     No      No        3       Semi-Detached   \n",
       "1                   34    Yes      No        1           Apartment   \n",
       "2                   38     No     Yes        3       Semi-Detached   \n",
       "3                   53    Yes     Yes        1           Apartment   \n",
       "4                   23     No     Yes        2       Semi-Detached   \n",
       "\n",
       "  Tipo de Aquecimento              Sacada Estilo do Interior   Vista  \\\n",
       "0    Electric Heating  High-level Balcony         Industrial  Garden   \n",
       "1     Central Heating  High-level Balcony         Industrial    City   \n",
       "2     Central Heating          No Balcony         Industrial  Street   \n",
       "3  Underfloor Heating          No Balcony            Classic    Park   \n",
       "4     Central Heating          No Balcony             Modern    Park   \n",
       "\n",
       "           Materiais Status da Construção  Preço (em euros)  \n",
       "0             Marble            Renovated           2291200  \n",
       "1  Laminate Flooring                  Old           1476000  \n",
       "2               Wood            Renovated           1881600  \n",
       "3            Granite            Renovated           1896000  \n",
       "4               Wood                  Old           1524000  "
      ]
     },
     "execution_count": 41,
     "metadata": {},
     "output_type": "execute_result"
    }
   ],
   "source": [
    "novos_nomes = {\n",
    "    'Address': 'Endereço',\n",
    "    'Neighborhood': 'Bairro',\n",
    "    'Bedrooms': 'Quartos',\n",
    "    'Square Meters': 'Metros Quadrados',\n",
    "    'Building Age': 'Idade da Construção',\n",
    "    'Garden': 'Jardim',\n",
    "    'Garage': 'Garagem',\n",
    "    'Floors': 'Andares',\n",
    "    'Property Type': 'Tipo de Propriedade',\n",
    "    'Heating Type': 'Tipo de Aquecimento',\n",
    "    'Balcony': 'Sacada',\n",
    "    'Interior Style': 'Estilo do Interior',\n",
    "    'View': 'Vista',\n",
    "    'Materials': 'Materiais',\n",
    "    'Building Status': 'Status da Construção',\n",
    "    'Price (£)': \"Preço (em euros)\"\n",
    "}\n",
    "\n",
    "df.rename(columns=novos_nomes, inplace=True)\n",
    "df.head()"
   ]
  },
  {
   "cell_type": "markdown",
   "id": "2fce2d9b",
   "metadata": {},
   "source": [
    "### Alterando os valores 'Yes' e 'No' para 1 ou 0"
   ]
  },
  {
   "cell_type": "code",
   "execution_count": 42,
   "id": "e7dfdc3d",
   "metadata": {},
   "outputs": [],
   "source": [
    "df['Jardim'] = df['Jardim'].map({'Yes': 1, 'No': 0})"
   ]
  },
  {
   "cell_type": "code",
   "execution_count": 43,
   "id": "74be4aeb",
   "metadata": {},
   "outputs": [
    {
     "data": {
      "text/html": [
       "<div>\n",
       "<style scoped>\n",
       "    .dataframe tbody tr th:only-of-type {\n",
       "        vertical-align: middle;\n",
       "    }\n",
       "\n",
       "    .dataframe tbody tr th {\n",
       "        vertical-align: top;\n",
       "    }\n",
       "\n",
       "    .dataframe thead th {\n",
       "        text-align: right;\n",
       "    }\n",
       "</style>\n",
       "<table border=\"1\" class=\"dataframe\">\n",
       "  <thead>\n",
       "    <tr style=\"text-align: right;\">\n",
       "      <th></th>\n",
       "      <th>Endereço</th>\n",
       "      <th>Bairro</th>\n",
       "      <th>Quartos</th>\n",
       "      <th>Bathrooms</th>\n",
       "      <th>Metros Quadrados</th>\n",
       "      <th>Idade da Construção</th>\n",
       "      <th>Jardim</th>\n",
       "      <th>Garagem</th>\n",
       "      <th>Andares</th>\n",
       "      <th>Tipo de Propriedade</th>\n",
       "      <th>Tipo de Aquecimento</th>\n",
       "      <th>Sacada</th>\n",
       "      <th>Estilo do Interior</th>\n",
       "      <th>Vista</th>\n",
       "      <th>Materiais</th>\n",
       "      <th>Status da Construção</th>\n",
       "      <th>Preço (em euros)</th>\n",
       "    </tr>\n",
       "  </thead>\n",
       "  <tbody>\n",
       "    <tr>\n",
       "      <th>0</th>\n",
       "      <td>78 Regent Street</td>\n",
       "      <td>Notting Hill</td>\n",
       "      <td>2</td>\n",
       "      <td>3</td>\n",
       "      <td>179</td>\n",
       "      <td>72</td>\n",
       "      <td>0</td>\n",
       "      <td>No</td>\n",
       "      <td>3</td>\n",
       "      <td>Semi-Detached</td>\n",
       "      <td>Electric Heating</td>\n",
       "      <td>High-level Balcony</td>\n",
       "      <td>Industrial</td>\n",
       "      <td>Garden</td>\n",
       "      <td>Marble</td>\n",
       "      <td>Renovated</td>\n",
       "      <td>2291200</td>\n",
       "    </tr>\n",
       "    <tr>\n",
       "      <th>1</th>\n",
       "      <td>198 Oxford Street</td>\n",
       "      <td>Westminster</td>\n",
       "      <td>2</td>\n",
       "      <td>1</td>\n",
       "      <td>123</td>\n",
       "      <td>34</td>\n",
       "      <td>1</td>\n",
       "      <td>No</td>\n",
       "      <td>1</td>\n",
       "      <td>Apartment</td>\n",
       "      <td>Central Heating</td>\n",
       "      <td>High-level Balcony</td>\n",
       "      <td>Industrial</td>\n",
       "      <td>City</td>\n",
       "      <td>Laminate Flooring</td>\n",
       "      <td>Old</td>\n",
       "      <td>1476000</td>\n",
       "    </tr>\n",
       "  </tbody>\n",
       "</table>\n",
       "</div>"
      ],
      "text/plain": [
       "            Endereço        Bairro  Quartos  Bathrooms  Metros Quadrados  \\\n",
       "0   78 Regent Street  Notting Hill        2          3               179   \n",
       "1  198 Oxford Street   Westminster        2          1               123   \n",
       "\n",
       "   Idade da Construção  Jardim Garagem  Andares Tipo de Propriedade  \\\n",
       "0                   72       0      No        3       Semi-Detached   \n",
       "1                   34       1      No        1           Apartment   \n",
       "\n",
       "  Tipo de Aquecimento              Sacada Estilo do Interior   Vista  \\\n",
       "0    Electric Heating  High-level Balcony         Industrial  Garden   \n",
       "1     Central Heating  High-level Balcony         Industrial    City   \n",
       "\n",
       "           Materiais Status da Construção  Preço (em euros)  \n",
       "0             Marble            Renovated           2291200  \n",
       "1  Laminate Flooring                  Old           1476000  "
      ]
     },
     "execution_count": 43,
     "metadata": {},
     "output_type": "execute_result"
    }
   ],
   "source": [
    "df.head(2)"
   ]
  },
  {
   "cell_type": "markdown",
   "id": "4d1ee538",
   "metadata": {},
   "source": [
    "### Alterando os valores \"Yes\" e \"No\" da coluna Garagem para 1 e 0"
   ]
  },
  {
   "cell_type": "code",
   "execution_count": 44,
   "id": "1947f72c",
   "metadata": {},
   "outputs": [
    {
     "data": {
      "text/html": [
       "<div>\n",
       "<style scoped>\n",
       "    .dataframe tbody tr th:only-of-type {\n",
       "        vertical-align: middle;\n",
       "    }\n",
       "\n",
       "    .dataframe tbody tr th {\n",
       "        vertical-align: top;\n",
       "    }\n",
       "\n",
       "    .dataframe thead th {\n",
       "        text-align: right;\n",
       "    }\n",
       "</style>\n",
       "<table border=\"1\" class=\"dataframe\">\n",
       "  <thead>\n",
       "    <tr style=\"text-align: right;\">\n",
       "      <th></th>\n",
       "      <th>Endereço</th>\n",
       "      <th>Bairro</th>\n",
       "      <th>Quartos</th>\n",
       "      <th>Bathrooms</th>\n",
       "      <th>Metros Quadrados</th>\n",
       "      <th>Idade da Construção</th>\n",
       "      <th>Jardim</th>\n",
       "      <th>Garagem</th>\n",
       "      <th>Andares</th>\n",
       "      <th>Tipo de Propriedade</th>\n",
       "      <th>Tipo de Aquecimento</th>\n",
       "      <th>Sacada</th>\n",
       "      <th>Estilo do Interior</th>\n",
       "      <th>Vista</th>\n",
       "      <th>Materiais</th>\n",
       "      <th>Status da Construção</th>\n",
       "      <th>Preço (em euros)</th>\n",
       "    </tr>\n",
       "  </thead>\n",
       "  <tbody>\n",
       "    <tr>\n",
       "      <th>0</th>\n",
       "      <td>78 Regent Street</td>\n",
       "      <td>Notting Hill</td>\n",
       "      <td>2</td>\n",
       "      <td>3</td>\n",
       "      <td>179</td>\n",
       "      <td>72</td>\n",
       "      <td>0</td>\n",
       "      <td>0</td>\n",
       "      <td>3</td>\n",
       "      <td>Semi-Detached</td>\n",
       "      <td>Electric Heating</td>\n",
       "      <td>High-level Balcony</td>\n",
       "      <td>Industrial</td>\n",
       "      <td>Garden</td>\n",
       "      <td>Marble</td>\n",
       "      <td>Renovated</td>\n",
       "      <td>2291200</td>\n",
       "    </tr>\n",
       "    <tr>\n",
       "      <th>1</th>\n",
       "      <td>198 Oxford Street</td>\n",
       "      <td>Westminster</td>\n",
       "      <td>2</td>\n",
       "      <td>1</td>\n",
       "      <td>123</td>\n",
       "      <td>34</td>\n",
       "      <td>1</td>\n",
       "      <td>0</td>\n",
       "      <td>1</td>\n",
       "      <td>Apartment</td>\n",
       "      <td>Central Heating</td>\n",
       "      <td>High-level Balcony</td>\n",
       "      <td>Industrial</td>\n",
       "      <td>City</td>\n",
       "      <td>Laminate Flooring</td>\n",
       "      <td>Old</td>\n",
       "      <td>1476000</td>\n",
       "    </tr>\n",
       "  </tbody>\n",
       "</table>\n",
       "</div>"
      ],
      "text/plain": [
       "            Endereço        Bairro  Quartos  Bathrooms  Metros Quadrados  \\\n",
       "0   78 Regent Street  Notting Hill        2          3               179   \n",
       "1  198 Oxford Street   Westminster        2          1               123   \n",
       "\n",
       "   Idade da Construção  Jardim  Garagem  Andares Tipo de Propriedade  \\\n",
       "0                   72       0        0        3       Semi-Detached   \n",
       "1                   34       1        0        1           Apartment   \n",
       "\n",
       "  Tipo de Aquecimento              Sacada Estilo do Interior   Vista  \\\n",
       "0    Electric Heating  High-level Balcony         Industrial  Garden   \n",
       "1     Central Heating  High-level Balcony         Industrial    City   \n",
       "\n",
       "           Materiais Status da Construção  Preço (em euros)  \n",
       "0             Marble            Renovated           2291200  \n",
       "1  Laminate Flooring                  Old           1476000  "
      ]
     },
     "execution_count": 44,
     "metadata": {},
     "output_type": "execute_result"
    }
   ],
   "source": [
    "df['Garagem'] = df['Garagem'].map({'Yes': 1, 'No': 0})\n",
    "df.head(2)"
   ]
  },
  {
   "cell_type": "markdown",
   "id": "8712801a",
   "metadata": {},
   "source": [
    "### Exibindo os tipos de propriedades que tem na coluna Tipo de Propriedade"
   ]
  },
  {
   "cell_type": "code",
   "execution_count": 45,
   "id": "ba77f664",
   "metadata": {},
   "outputs": [
    {
     "data": {
      "text/plain": [
       "array(['Semi-Detached', 'Apartment', 'Detached House'], dtype=object)"
      ]
     },
     "execution_count": 45,
     "metadata": {},
     "output_type": "execute_result"
    }
   ],
   "source": [
    "df['Tipo de Propriedade'].unique()"
   ]
  },
  {
   "cell_type": "markdown",
   "id": "54643399",
   "metadata": {},
   "source": [
    "### Substituindo as linhas para uma versão traduzida"
   ]
  },
  {
   "cell_type": "code",
   "execution_count": 46,
   "id": "24a6e3f5",
   "metadata": {},
   "outputs": [
    {
     "data": {
      "text/plain": [
       "Tipo de Propriedade\n",
       "Casa Isolada    349\n",
       "Geminada        345\n",
       "Apartamento     306\n",
       "Name: count, dtype: int64"
      ]
     },
     "execution_count": 46,
     "metadata": {},
     "output_type": "execute_result"
    }
   ],
   "source": [
    "tipos = {\n",
    "    'Semi-Detached': 'Geminada',\n",
    "    'Apartment': 'Apartamento',\n",
    "    'Detached House': 'Casa Isolada'\n",
    "}\n",
    "df['Tipo de Propriedade'] = df['Tipo de Propriedade'].replace(tipos)\n",
    "df['Tipo de Propriedade'].value_counts()"
   ]
  },
  {
   "cell_type": "code",
   "execution_count": 47,
   "id": "1bef4093",
   "metadata": {},
   "outputs": [
    {
     "data": {
      "text/html": [
       "<div>\n",
       "<style scoped>\n",
       "    .dataframe tbody tr th:only-of-type {\n",
       "        vertical-align: middle;\n",
       "    }\n",
       "\n",
       "    .dataframe tbody tr th {\n",
       "        vertical-align: top;\n",
       "    }\n",
       "\n",
       "    .dataframe thead th {\n",
       "        text-align: right;\n",
       "    }\n",
       "</style>\n",
       "<table border=\"1\" class=\"dataframe\">\n",
       "  <thead>\n",
       "    <tr style=\"text-align: right;\">\n",
       "      <th></th>\n",
       "      <th>Endereço</th>\n",
       "      <th>Bairro</th>\n",
       "      <th>Quartos</th>\n",
       "      <th>Bathrooms</th>\n",
       "      <th>Metros Quadrados</th>\n",
       "      <th>Idade da Construção</th>\n",
       "      <th>Jardim</th>\n",
       "      <th>Garagem</th>\n",
       "      <th>Andares</th>\n",
       "      <th>Tipo de Propriedade</th>\n",
       "      <th>Tipo de Aquecimento</th>\n",
       "      <th>Sacada</th>\n",
       "      <th>Estilo do Interior</th>\n",
       "      <th>Vista</th>\n",
       "      <th>Materiais</th>\n",
       "      <th>Status da Construção</th>\n",
       "      <th>Preço (em euros)</th>\n",
       "    </tr>\n",
       "  </thead>\n",
       "  <tbody>\n",
       "    <tr>\n",
       "      <th>0</th>\n",
       "      <td>78 Regent Street</td>\n",
       "      <td>Notting Hill</td>\n",
       "      <td>2</td>\n",
       "      <td>3</td>\n",
       "      <td>179</td>\n",
       "      <td>72</td>\n",
       "      <td>0</td>\n",
       "      <td>0</td>\n",
       "      <td>3</td>\n",
       "      <td>Geminada</td>\n",
       "      <td>Electric Heating</td>\n",
       "      <td>High-level Balcony</td>\n",
       "      <td>Industrial</td>\n",
       "      <td>Garden</td>\n",
       "      <td>Marble</td>\n",
       "      <td>Renovated</td>\n",
       "      <td>2291200</td>\n",
       "    </tr>\n",
       "    <tr>\n",
       "      <th>1</th>\n",
       "      <td>198 Oxford Street</td>\n",
       "      <td>Westminster</td>\n",
       "      <td>2</td>\n",
       "      <td>1</td>\n",
       "      <td>123</td>\n",
       "      <td>34</td>\n",
       "      <td>1</td>\n",
       "      <td>0</td>\n",
       "      <td>1</td>\n",
       "      <td>Apartamento</td>\n",
       "      <td>Central Heating</td>\n",
       "      <td>High-level Balcony</td>\n",
       "      <td>Industrial</td>\n",
       "      <td>City</td>\n",
       "      <td>Laminate Flooring</td>\n",
       "      <td>Old</td>\n",
       "      <td>1476000</td>\n",
       "    </tr>\n",
       "  </tbody>\n",
       "</table>\n",
       "</div>"
      ],
      "text/plain": [
       "            Endereço        Bairro  Quartos  Bathrooms  Metros Quadrados  \\\n",
       "0   78 Regent Street  Notting Hill        2          3               179   \n",
       "1  198 Oxford Street   Westminster        2          1               123   \n",
       "\n",
       "   Idade da Construção  Jardim  Garagem  Andares Tipo de Propriedade  \\\n",
       "0                   72       0        0        3            Geminada   \n",
       "1                   34       1        0        1         Apartamento   \n",
       "\n",
       "  Tipo de Aquecimento              Sacada Estilo do Interior   Vista  \\\n",
       "0    Electric Heating  High-level Balcony         Industrial  Garden   \n",
       "1     Central Heating  High-level Balcony         Industrial    City   \n",
       "\n",
       "           Materiais Status da Construção  Preço (em euros)  \n",
       "0             Marble            Renovated           2291200  \n",
       "1  Laminate Flooring                  Old           1476000  "
      ]
     },
     "execution_count": 47,
     "metadata": {},
     "output_type": "execute_result"
    }
   ],
   "source": [
    "df.head(2)"
   ]
  },
  {
   "cell_type": "markdown",
   "id": "d4b40e5c",
   "metadata": {},
   "source": [
    "### Visualizando os tipos de aquecimentos"
   ]
  },
  {
   "cell_type": "code",
   "execution_count": 48,
   "id": "fa7ad13d",
   "metadata": {},
   "outputs": [
    {
     "data": {
      "text/plain": [
       "array(['Electric Heating', 'Central Heating', 'Underfloor Heating',\n",
       "       'Gas Heating'], dtype=object)"
      ]
     },
     "execution_count": 48,
     "metadata": {},
     "output_type": "execute_result"
    }
   ],
   "source": [
    "df['Tipo de Aquecimento'].unique()"
   ]
  },
  {
   "cell_type": "markdown",
   "id": "cbbb7f9e",
   "metadata": {},
   "source": [
    "### Traduzindo os tipos de aquecimento para português"
   ]
  },
  {
   "cell_type": "code",
   "execution_count": 49,
   "id": "53b6541d",
   "metadata": {},
   "outputs": [
    {
     "data": {
      "text/plain": [
       "array(['Elétrico', 'Central', 'Piso', 'Gás'], dtype=object)"
      ]
     },
     "execution_count": 49,
     "metadata": {},
     "output_type": "execute_result"
    }
   ],
   "source": [
    "tipos_aquecimento = {\n",
    "    'Electric Heating': 'Elétrico',\n",
    "    'Central Heating': 'Central',\n",
    "    'Underfloor Heating': 'Piso',\n",
    "    'Gas Heating': 'Gás'\n",
    "}\n",
    "\n",
    "df['Tipo de Aquecimento'] = df['Tipo de Aquecimento'].replace(tipos_aquecimento)\n",
    "df['Tipo de Aquecimento'].unique()"
   ]
  },
  {
   "cell_type": "code",
   "execution_count": 50,
   "id": "228a2d76",
   "metadata": {},
   "outputs": [
    {
     "data": {
      "text/plain": [
       "array(['High-level Balcony', 'No Balcony', 'Low-level Balcony'],\n",
       "      dtype=object)"
      ]
     },
     "execution_count": 50,
     "metadata": {},
     "output_type": "execute_result"
    }
   ],
   "source": [
    "df['Sacada'].unique()"
   ]
  },
  {
   "cell_type": "code",
   "execution_count": 51,
   "id": "37f530fe",
   "metadata": {},
   "outputs": [
    {
     "data": {
      "text/plain": [
       "array(['Sacada de alto nível', 'Sem sacada', 'Sacada de baixo nível'],\n",
       "      dtype=object)"
      ]
     },
     "execution_count": 51,
     "metadata": {},
     "output_type": "execute_result"
    }
   ],
   "source": [
    "tipos_sacada = {\n",
    "    'High-level Balcony': 'Sacada de alto nível',\n",
    "    'No Balcony': 'Sem sacada',\n",
    "    'Low-level Balcony': 'Sacada de baixo nível'\n",
    "}\n",
    "\n",
    "df['Sacada'] = df['Sacada'].replace(tipos_sacada)\n",
    "df['Sacada'].unique()"
   ]
  },
  {
   "cell_type": "code",
   "execution_count": 52,
   "id": "5e4feca8",
   "metadata": {},
   "outputs": [
    {
     "data": {
      "text/html": [
       "<div>\n",
       "<style scoped>\n",
       "    .dataframe tbody tr th:only-of-type {\n",
       "        vertical-align: middle;\n",
       "    }\n",
       "\n",
       "    .dataframe tbody tr th {\n",
       "        vertical-align: top;\n",
       "    }\n",
       "\n",
       "    .dataframe thead th {\n",
       "        text-align: right;\n",
       "    }\n",
       "</style>\n",
       "<table border=\"1\" class=\"dataframe\">\n",
       "  <thead>\n",
       "    <tr style=\"text-align: right;\">\n",
       "      <th></th>\n",
       "      <th>Endereço</th>\n",
       "      <th>Bairro</th>\n",
       "      <th>Quartos</th>\n",
       "      <th>Bathrooms</th>\n",
       "      <th>Metros Quadrados</th>\n",
       "      <th>Idade da Construção</th>\n",
       "      <th>Jardim</th>\n",
       "      <th>Garagem</th>\n",
       "      <th>Andares</th>\n",
       "      <th>Tipo de Propriedade</th>\n",
       "      <th>Tipo de Aquecimento</th>\n",
       "      <th>Sacada</th>\n",
       "      <th>Estilo do Interior</th>\n",
       "      <th>Vista</th>\n",
       "      <th>Materiais</th>\n",
       "      <th>Status da Construção</th>\n",
       "      <th>Preço (em euros)</th>\n",
       "    </tr>\n",
       "  </thead>\n",
       "  <tbody>\n",
       "    <tr>\n",
       "      <th>0</th>\n",
       "      <td>78 Regent Street</td>\n",
       "      <td>Notting Hill</td>\n",
       "      <td>2</td>\n",
       "      <td>3</td>\n",
       "      <td>179</td>\n",
       "      <td>72</td>\n",
       "      <td>0</td>\n",
       "      <td>0</td>\n",
       "      <td>3</td>\n",
       "      <td>Geminada</td>\n",
       "      <td>Elétrico</td>\n",
       "      <td>Sacada de alto nível</td>\n",
       "      <td>Industrial</td>\n",
       "      <td>Garden</td>\n",
       "      <td>Marble</td>\n",
       "      <td>Renovated</td>\n",
       "      <td>2291200</td>\n",
       "    </tr>\n",
       "    <tr>\n",
       "      <th>1</th>\n",
       "      <td>198 Oxford Street</td>\n",
       "      <td>Westminster</td>\n",
       "      <td>2</td>\n",
       "      <td>1</td>\n",
       "      <td>123</td>\n",
       "      <td>34</td>\n",
       "      <td>1</td>\n",
       "      <td>0</td>\n",
       "      <td>1</td>\n",
       "      <td>Apartamento</td>\n",
       "      <td>Central</td>\n",
       "      <td>Sacada de alto nível</td>\n",
       "      <td>Industrial</td>\n",
       "      <td>City</td>\n",
       "      <td>Laminate Flooring</td>\n",
       "      <td>Old</td>\n",
       "      <td>1476000</td>\n",
       "    </tr>\n",
       "  </tbody>\n",
       "</table>\n",
       "</div>"
      ],
      "text/plain": [
       "            Endereço        Bairro  Quartos  Bathrooms  Metros Quadrados  \\\n",
       "0   78 Regent Street  Notting Hill        2          3               179   \n",
       "1  198 Oxford Street   Westminster        2          1               123   \n",
       "\n",
       "   Idade da Construção  Jardim  Garagem  Andares Tipo de Propriedade  \\\n",
       "0                   72       0        0        3            Geminada   \n",
       "1                   34       1        0        1         Apartamento   \n",
       "\n",
       "  Tipo de Aquecimento                Sacada Estilo do Interior   Vista  \\\n",
       "0            Elétrico  Sacada de alto nível         Industrial  Garden   \n",
       "1             Central  Sacada de alto nível         Industrial    City   \n",
       "\n",
       "           Materiais Status da Construção  Preço (em euros)  \n",
       "0             Marble            Renovated           2291200  \n",
       "1  Laminate Flooring                  Old           1476000  "
      ]
     },
     "execution_count": 52,
     "metadata": {},
     "output_type": "execute_result"
    }
   ],
   "source": [
    "df.head(2)"
   ]
  },
  {
   "cell_type": "code",
   "execution_count": 53,
   "id": "53d5dd83",
   "metadata": {},
   "outputs": [
    {
     "data": {
      "text/plain": [
       "array(['Industrial', 'Classic', 'Modern', 'Minimalist'], dtype=object)"
      ]
     },
     "execution_count": 53,
     "metadata": {},
     "output_type": "execute_result"
    }
   ],
   "source": [
    "df['Estilo do Interior'].unique()"
   ]
  },
  {
   "cell_type": "code",
   "execution_count": 54,
   "id": "bc1068b2",
   "metadata": {},
   "outputs": [
    {
     "data": {
      "text/plain": [
       "array(['Industrial', 'Clássico', 'Moderno', 'Minimalista'], dtype=object)"
      ]
     },
     "execution_count": 54,
     "metadata": {},
     "output_type": "execute_result"
    }
   ],
   "source": [
    "estilos_interior = {\n",
    "    'Classic': 'Clássico',\n",
    "    'Modern': 'Moderno',\n",
    "    'Minimalist': 'Minimalista'\n",
    "}\n",
    "\n",
    "df['Estilo do Interior'] = df['Estilo do Interior'].replace(estilos_interior)\n",
    "df['Estilo do Interior'].unique()"
   ]
  },
  {
   "cell_type": "code",
   "execution_count": 55,
   "id": "8e9c9ecf",
   "metadata": {},
   "outputs": [
    {
     "data": {
      "text/html": [
       "<div>\n",
       "<style scoped>\n",
       "    .dataframe tbody tr th:only-of-type {\n",
       "        vertical-align: middle;\n",
       "    }\n",
       "\n",
       "    .dataframe tbody tr th {\n",
       "        vertical-align: top;\n",
       "    }\n",
       "\n",
       "    .dataframe thead th {\n",
       "        text-align: right;\n",
       "    }\n",
       "</style>\n",
       "<table border=\"1\" class=\"dataframe\">\n",
       "  <thead>\n",
       "    <tr style=\"text-align: right;\">\n",
       "      <th></th>\n",
       "      <th>Endereço</th>\n",
       "      <th>Bairro</th>\n",
       "      <th>Quartos</th>\n",
       "      <th>Bathrooms</th>\n",
       "      <th>Metros Quadrados</th>\n",
       "      <th>Idade da Construção</th>\n",
       "      <th>Jardim</th>\n",
       "      <th>Garagem</th>\n",
       "      <th>Andares</th>\n",
       "      <th>Tipo de Propriedade</th>\n",
       "      <th>Tipo de Aquecimento</th>\n",
       "      <th>Sacada</th>\n",
       "      <th>Estilo do Interior</th>\n",
       "      <th>Vista</th>\n",
       "      <th>Materiais</th>\n",
       "      <th>Status da Construção</th>\n",
       "      <th>Preço (em euros)</th>\n",
       "    </tr>\n",
       "  </thead>\n",
       "  <tbody>\n",
       "    <tr>\n",
       "      <th>0</th>\n",
       "      <td>78 Regent Street</td>\n",
       "      <td>Notting Hill</td>\n",
       "      <td>2</td>\n",
       "      <td>3</td>\n",
       "      <td>179</td>\n",
       "      <td>72</td>\n",
       "      <td>0</td>\n",
       "      <td>0</td>\n",
       "      <td>3</td>\n",
       "      <td>Geminada</td>\n",
       "      <td>Elétrico</td>\n",
       "      <td>Sacada de alto nível</td>\n",
       "      <td>Industrial</td>\n",
       "      <td>Garden</td>\n",
       "      <td>Marble</td>\n",
       "      <td>Renovated</td>\n",
       "      <td>2291200</td>\n",
       "    </tr>\n",
       "    <tr>\n",
       "      <th>1</th>\n",
       "      <td>198 Oxford Street</td>\n",
       "      <td>Westminster</td>\n",
       "      <td>2</td>\n",
       "      <td>1</td>\n",
       "      <td>123</td>\n",
       "      <td>34</td>\n",
       "      <td>1</td>\n",
       "      <td>0</td>\n",
       "      <td>1</td>\n",
       "      <td>Apartamento</td>\n",
       "      <td>Central</td>\n",
       "      <td>Sacada de alto nível</td>\n",
       "      <td>Industrial</td>\n",
       "      <td>City</td>\n",
       "      <td>Laminate Flooring</td>\n",
       "      <td>Old</td>\n",
       "      <td>1476000</td>\n",
       "    </tr>\n",
       "    <tr>\n",
       "      <th>2</th>\n",
       "      <td>18 Regent Street</td>\n",
       "      <td>Soho</td>\n",
       "      <td>5</td>\n",
       "      <td>3</td>\n",
       "      <td>168</td>\n",
       "      <td>38</td>\n",
       "      <td>0</td>\n",
       "      <td>1</td>\n",
       "      <td>3</td>\n",
       "      <td>Geminada</td>\n",
       "      <td>Central</td>\n",
       "      <td>Sem sacada</td>\n",
       "      <td>Industrial</td>\n",
       "      <td>Street</td>\n",
       "      <td>Wood</td>\n",
       "      <td>Renovated</td>\n",
       "      <td>1881600</td>\n",
       "    </tr>\n",
       "    <tr>\n",
       "      <th>3</th>\n",
       "      <td>39 Piccadilly Circus</td>\n",
       "      <td>Islington</td>\n",
       "      <td>5</td>\n",
       "      <td>1</td>\n",
       "      <td>237</td>\n",
       "      <td>53</td>\n",
       "      <td>1</td>\n",
       "      <td>1</td>\n",
       "      <td>1</td>\n",
       "      <td>Apartamento</td>\n",
       "      <td>Piso</td>\n",
       "      <td>Sem sacada</td>\n",
       "      <td>Clássico</td>\n",
       "      <td>Park</td>\n",
       "      <td>Granite</td>\n",
       "      <td>Renovated</td>\n",
       "      <td>1896000</td>\n",
       "    </tr>\n",
       "    <tr>\n",
       "      <th>4</th>\n",
       "      <td>116 Fleet Street</td>\n",
       "      <td>Marylebone</td>\n",
       "      <td>4</td>\n",
       "      <td>1</td>\n",
       "      <td>127</td>\n",
       "      <td>23</td>\n",
       "      <td>0</td>\n",
       "      <td>1</td>\n",
       "      <td>2</td>\n",
       "      <td>Geminada</td>\n",
       "      <td>Central</td>\n",
       "      <td>Sem sacada</td>\n",
       "      <td>Moderno</td>\n",
       "      <td>Park</td>\n",
       "      <td>Wood</td>\n",
       "      <td>Old</td>\n",
       "      <td>1524000</td>\n",
       "    </tr>\n",
       "    <tr>\n",
       "      <th>5</th>\n",
       "      <td>32 Bond Street</td>\n",
       "      <td>Notting Hill</td>\n",
       "      <td>5</td>\n",
       "      <td>2</td>\n",
       "      <td>69</td>\n",
       "      <td>69</td>\n",
       "      <td>1</td>\n",
       "      <td>1</td>\n",
       "      <td>2</td>\n",
       "      <td>Apartamento</td>\n",
       "      <td>Central</td>\n",
       "      <td>Sacada de baixo nível</td>\n",
       "      <td>Minimalista</td>\n",
       "      <td>Park</td>\n",
       "      <td>Marble</td>\n",
       "      <td>Renovated</td>\n",
       "      <td>736000</td>\n",
       "    </tr>\n",
       "    <tr>\n",
       "      <th>6</th>\n",
       "      <td>197 Baker Street</td>\n",
       "      <td>Soho</td>\n",
       "      <td>3</td>\n",
       "      <td>3</td>\n",
       "      <td>128</td>\n",
       "      <td>24</td>\n",
       "      <td>1</td>\n",
       "      <td>0</td>\n",
       "      <td>2</td>\n",
       "      <td>Apartamento</td>\n",
       "      <td>Elétrico</td>\n",
       "      <td>Sacada de baixo nível</td>\n",
       "      <td>Clássico</td>\n",
       "      <td>Sea</td>\n",
       "      <td>Laminate Flooring</td>\n",
       "      <td>Old</td>\n",
       "      <td>1194666</td>\n",
       "    </tr>\n",
       "    <tr>\n",
       "      <th>7</th>\n",
       "      <td>86 Fleet Street</td>\n",
       "      <td>Kensington</td>\n",
       "      <td>5</td>\n",
       "      <td>2</td>\n",
       "      <td>130</td>\n",
       "      <td>88</td>\n",
       "      <td>1</td>\n",
       "      <td>0</td>\n",
       "      <td>1</td>\n",
       "      <td>Apartamento</td>\n",
       "      <td>Elétrico</td>\n",
       "      <td>Sem sacada</td>\n",
       "      <td>Minimalista</td>\n",
       "      <td>City</td>\n",
       "      <td>Laminate Flooring</td>\n",
       "      <td>Renovated</td>\n",
       "      <td>1646666</td>\n",
       "    </tr>\n",
       "    <tr>\n",
       "      <th>8</th>\n",
       "      <td>9 Park Lane</td>\n",
       "      <td>Greenwich</td>\n",
       "      <td>5</td>\n",
       "      <td>1</td>\n",
       "      <td>76</td>\n",
       "      <td>2</td>\n",
       "      <td>0</td>\n",
       "      <td>1</td>\n",
       "      <td>3</td>\n",
       "      <td>Apartamento</td>\n",
       "      <td>Elétrico</td>\n",
       "      <td>Sacada de baixo nível</td>\n",
       "      <td>Clássico</td>\n",
       "      <td>Sea</td>\n",
       "      <td>Laminate Flooring</td>\n",
       "      <td>New</td>\n",
       "      <td>506666</td>\n",
       "    </tr>\n",
       "    <tr>\n",
       "      <th>9</th>\n",
       "      <td>50 Strand</td>\n",
       "      <td>Kensington</td>\n",
       "      <td>4</td>\n",
       "      <td>2</td>\n",
       "      <td>59</td>\n",
       "      <td>79</td>\n",
       "      <td>0</td>\n",
       "      <td>0</td>\n",
       "      <td>3</td>\n",
       "      <td>Geminada</td>\n",
       "      <td>Gás</td>\n",
       "      <td>Sem sacada</td>\n",
       "      <td>Clássico</td>\n",
       "      <td>Street</td>\n",
       "      <td>Wood</td>\n",
       "      <td>Old</td>\n",
       "      <td>896799</td>\n",
       "    </tr>\n",
       "  </tbody>\n",
       "</table>\n",
       "</div>"
      ],
      "text/plain": [
       "               Endereço        Bairro  Quartos  Bathrooms  Metros Quadrados  \\\n",
       "0      78 Regent Street  Notting Hill        2          3               179   \n",
       "1     198 Oxford Street   Westminster        2          1               123   \n",
       "2      18 Regent Street          Soho        5          3               168   \n",
       "3  39 Piccadilly Circus     Islington        5          1               237   \n",
       "4      116 Fleet Street    Marylebone        4          1               127   \n",
       "5        32 Bond Street  Notting Hill        5          2                69   \n",
       "6      197 Baker Street          Soho        3          3               128   \n",
       "7       86 Fleet Street    Kensington        5          2               130   \n",
       "8           9 Park Lane     Greenwich        5          1                76   \n",
       "9             50 Strand    Kensington        4          2                59   \n",
       "\n",
       "   Idade da Construção  Jardim  Garagem  Andares Tipo de Propriedade  \\\n",
       "0                   72       0        0        3            Geminada   \n",
       "1                   34       1        0        1         Apartamento   \n",
       "2                   38       0        1        3            Geminada   \n",
       "3                   53       1        1        1         Apartamento   \n",
       "4                   23       0        1        2            Geminada   \n",
       "5                   69       1        1        2         Apartamento   \n",
       "6                   24       1        0        2         Apartamento   \n",
       "7                   88       1        0        1         Apartamento   \n",
       "8                    2       0        1        3         Apartamento   \n",
       "9                   79       0        0        3            Geminada   \n",
       "\n",
       "  Tipo de Aquecimento                 Sacada Estilo do Interior   Vista  \\\n",
       "0            Elétrico   Sacada de alto nível         Industrial  Garden   \n",
       "1             Central   Sacada de alto nível         Industrial    City   \n",
       "2             Central             Sem sacada         Industrial  Street   \n",
       "3                Piso             Sem sacada           Clássico    Park   \n",
       "4             Central             Sem sacada            Moderno    Park   \n",
       "5             Central  Sacada de baixo nível        Minimalista    Park   \n",
       "6            Elétrico  Sacada de baixo nível           Clássico     Sea   \n",
       "7            Elétrico             Sem sacada        Minimalista    City   \n",
       "8            Elétrico  Sacada de baixo nível           Clássico     Sea   \n",
       "9                 Gás             Sem sacada           Clássico  Street   \n",
       "\n",
       "           Materiais Status da Construção  Preço (em euros)  \n",
       "0             Marble            Renovated           2291200  \n",
       "1  Laminate Flooring                  Old           1476000  \n",
       "2               Wood            Renovated           1881600  \n",
       "3            Granite            Renovated           1896000  \n",
       "4               Wood                  Old           1524000  \n",
       "5             Marble            Renovated            736000  \n",
       "6  Laminate Flooring                  Old           1194666  \n",
       "7  Laminate Flooring            Renovated           1646666  \n",
       "8  Laminate Flooring                  New            506666  \n",
       "9               Wood                  Old            896799  "
      ]
     },
     "execution_count": 55,
     "metadata": {},
     "output_type": "execute_result"
    }
   ],
   "source": [
    "df.head(10)"
   ]
  },
  {
   "cell_type": "code",
   "execution_count": 56,
   "id": "e2815994",
   "metadata": {},
   "outputs": [
    {
     "data": {
      "text/plain": [
       "array(['Garden', 'City', 'Street', 'Park', 'Sea'], dtype=object)"
      ]
     },
     "execution_count": 56,
     "metadata": {},
     "output_type": "execute_result"
    }
   ],
   "source": [
    "df['Vista'].unique()"
   ]
  },
  {
   "cell_type": "code",
   "execution_count": 57,
   "id": "477780d9",
   "metadata": {},
   "outputs": [],
   "source": [
    "vistas = {\n",
    "    'Garden': 'Jardim',\n",
    "    'City': 'Cidade',\n",
    "    'Street': 'Rua',\n",
    "    'Park': 'Parque',\n",
    "    'Sea': 'Mar'\n",
    "}\n",
    "\n",
    "df['Vista'] = df['Vista'].replace(vistas)"
   ]
  },
  {
   "cell_type": "code",
   "execution_count": 58,
   "id": "2db30d8d",
   "metadata": {},
   "outputs": [
    {
     "data": {
      "text/plain": [
       "array(['Jardim', 'Cidade', 'Rua', 'Parque', 'Mar'], dtype=object)"
      ]
     },
     "execution_count": 58,
     "metadata": {},
     "output_type": "execute_result"
    }
   ],
   "source": [
    "df['Vista'].unique()"
   ]
  },
  {
   "cell_type": "code",
   "execution_count": 59,
   "id": "5e13ca3a",
   "metadata": {},
   "outputs": [
    {
     "data": {
      "text/html": [
       "<div>\n",
       "<style scoped>\n",
       "    .dataframe tbody tr th:only-of-type {\n",
       "        vertical-align: middle;\n",
       "    }\n",
       "\n",
       "    .dataframe tbody tr th {\n",
       "        vertical-align: top;\n",
       "    }\n",
       "\n",
       "    .dataframe thead th {\n",
       "        text-align: right;\n",
       "    }\n",
       "</style>\n",
       "<table border=\"1\" class=\"dataframe\">\n",
       "  <thead>\n",
       "    <tr style=\"text-align: right;\">\n",
       "      <th></th>\n",
       "      <th>Endereço</th>\n",
       "      <th>Bairro</th>\n",
       "      <th>Quartos</th>\n",
       "      <th>Bathrooms</th>\n",
       "      <th>Metros Quadrados</th>\n",
       "      <th>Idade da Construção</th>\n",
       "      <th>Jardim</th>\n",
       "      <th>Garagem</th>\n",
       "      <th>Andares</th>\n",
       "      <th>Tipo de Propriedade</th>\n",
       "      <th>Tipo de Aquecimento</th>\n",
       "      <th>Sacada</th>\n",
       "      <th>Estilo do Interior</th>\n",
       "      <th>Vista</th>\n",
       "      <th>Materiais</th>\n",
       "      <th>Status da Construção</th>\n",
       "      <th>Preço (em euros)</th>\n",
       "    </tr>\n",
       "  </thead>\n",
       "  <tbody>\n",
       "    <tr>\n",
       "      <th>0</th>\n",
       "      <td>78 Regent Street</td>\n",
       "      <td>Notting Hill</td>\n",
       "      <td>2</td>\n",
       "      <td>3</td>\n",
       "      <td>179</td>\n",
       "      <td>72</td>\n",
       "      <td>0</td>\n",
       "      <td>0</td>\n",
       "      <td>3</td>\n",
       "      <td>Geminada</td>\n",
       "      <td>Elétrico</td>\n",
       "      <td>Sacada de alto nível</td>\n",
       "      <td>Industrial</td>\n",
       "      <td>Jardim</td>\n",
       "      <td>Marble</td>\n",
       "      <td>Renovated</td>\n",
       "      <td>2291200</td>\n",
       "    </tr>\n",
       "  </tbody>\n",
       "</table>\n",
       "</div>"
      ],
      "text/plain": [
       "           Endereço        Bairro  Quartos  Bathrooms  Metros Quadrados  \\\n",
       "0  78 Regent Street  Notting Hill        2          3               179   \n",
       "\n",
       "   Idade da Construção  Jardim  Garagem  Andares Tipo de Propriedade  \\\n",
       "0                   72       0        0        3            Geminada   \n",
       "\n",
       "  Tipo de Aquecimento                Sacada Estilo do Interior   Vista  \\\n",
       "0            Elétrico  Sacada de alto nível         Industrial  Jardim   \n",
       "\n",
       "  Materiais Status da Construção  Preço (em euros)  \n",
       "0    Marble            Renovated           2291200  "
      ]
     },
     "execution_count": 59,
     "metadata": {},
     "output_type": "execute_result"
    }
   ],
   "source": [
    "df.head(1)"
   ]
  },
  {
   "cell_type": "code",
   "execution_count": 60,
   "id": "cf5f2d47",
   "metadata": {},
   "outputs": [
    {
     "data": {
      "text/plain": [
       "array(['Marble', 'Laminate Flooring', 'Wood', 'Granite'], dtype=object)"
      ]
     },
     "execution_count": 60,
     "metadata": {},
     "output_type": "execute_result"
    }
   ],
   "source": [
    "df['Materiais'].unique()"
   ]
  },
  {
   "cell_type": "code",
   "execution_count": 61,
   "id": "3145ae44",
   "metadata": {},
   "outputs": [
    {
     "data": {
      "text/plain": [
       "array(['Mármore', 'Piso Laminado', 'Madeira', 'Granito'], dtype=object)"
      ]
     },
     "execution_count": 61,
     "metadata": {},
     "output_type": "execute_result"
    }
   ],
   "source": [
    "materiais = {\n",
    "    'Marble': 'Mármore',\n",
    "    'Laminate Flooring': 'Piso Laminado',\n",
    "    'Wood': 'Madeira',\n",
    "    'Granite': 'Granito'\n",
    "}\n",
    "df['Materiais'] = df['Materiais'].replace(materiais)\n",
    "df['Materiais'].unique()"
   ]
  },
  {
   "cell_type": "code",
   "execution_count": 62,
   "id": "d89a172b",
   "metadata": {},
   "outputs": [
    {
     "data": {
      "text/plain": [
       "array(['Renovated', 'Old', 'New'], dtype=object)"
      ]
     },
     "execution_count": 62,
     "metadata": {},
     "output_type": "execute_result"
    }
   ],
   "source": [
    "df['Status da Construção'].unique()"
   ]
  },
  {
   "cell_type": "code",
   "execution_count": 63,
   "id": "a43c63a0",
   "metadata": {},
   "outputs": [],
   "source": [
    "status = {\n",
    "    'Renovated': 'Renovada',\n",
    "    'Old': 'Velha',\n",
    "    'New': 'Nova'\n",
    "}\n",
    "df['Status da Construção'] = df['Status da Construção'].replace(status)\n"
   ]
  },
  {
   "cell_type": "code",
   "execution_count": 64,
   "id": "dc00a520",
   "metadata": {},
   "outputs": [
    {
     "data": {
      "text/plain": [
       "array(['Renovada', 'Velha', 'Nova'], dtype=object)"
      ]
     },
     "execution_count": 64,
     "metadata": {},
     "output_type": "execute_result"
    }
   ],
   "source": [
    "df['Status da Construção'].unique()"
   ]
  },
  {
   "cell_type": "code",
   "execution_count": 65,
   "id": "dcbe8b3f",
   "metadata": {},
   "outputs": [
    {
     "data": {
      "text/html": [
       "<div>\n",
       "<style scoped>\n",
       "    .dataframe tbody tr th:only-of-type {\n",
       "        vertical-align: middle;\n",
       "    }\n",
       "\n",
       "    .dataframe tbody tr th {\n",
       "        vertical-align: top;\n",
       "    }\n",
       "\n",
       "    .dataframe thead th {\n",
       "        text-align: right;\n",
       "    }\n",
       "</style>\n",
       "<table border=\"1\" class=\"dataframe\">\n",
       "  <thead>\n",
       "    <tr style=\"text-align: right;\">\n",
       "      <th></th>\n",
       "      <th>Endereço</th>\n",
       "      <th>Bairro</th>\n",
       "      <th>Quartos</th>\n",
       "      <th>Bathrooms</th>\n",
       "      <th>Metros Quadrados</th>\n",
       "      <th>Idade da Construção</th>\n",
       "      <th>Jardim</th>\n",
       "      <th>Garagem</th>\n",
       "      <th>Andares</th>\n",
       "      <th>Tipo de Propriedade</th>\n",
       "      <th>Tipo de Aquecimento</th>\n",
       "      <th>Sacada</th>\n",
       "      <th>Estilo do Interior</th>\n",
       "      <th>Vista</th>\n",
       "      <th>Materiais</th>\n",
       "      <th>Status da Construção</th>\n",
       "      <th>Preço (em euros)</th>\n",
       "    </tr>\n",
       "  </thead>\n",
       "  <tbody>\n",
       "    <tr>\n",
       "      <th>0</th>\n",
       "      <td>78 Regent Street</td>\n",
       "      <td>Notting Hill</td>\n",
       "      <td>2</td>\n",
       "      <td>3</td>\n",
       "      <td>179</td>\n",
       "      <td>72</td>\n",
       "      <td>0</td>\n",
       "      <td>0</td>\n",
       "      <td>3</td>\n",
       "      <td>Geminada</td>\n",
       "      <td>Elétrico</td>\n",
       "      <td>Sacada de alto nível</td>\n",
       "      <td>Industrial</td>\n",
       "      <td>Jardim</td>\n",
       "      <td>Mármore</td>\n",
       "      <td>Renovada</td>\n",
       "      <td>2291200</td>\n",
       "    </tr>\n",
       "  </tbody>\n",
       "</table>\n",
       "</div>"
      ],
      "text/plain": [
       "           Endereço        Bairro  Quartos  Bathrooms  Metros Quadrados  \\\n",
       "0  78 Regent Street  Notting Hill        2          3               179   \n",
       "\n",
       "   Idade da Construção  Jardim  Garagem  Andares Tipo de Propriedade  \\\n",
       "0                   72       0        0        3            Geminada   \n",
       "\n",
       "  Tipo de Aquecimento                Sacada Estilo do Interior   Vista  \\\n",
       "0            Elétrico  Sacada de alto nível         Industrial  Jardim   \n",
       "\n",
       "  Materiais Status da Construção  Preço (em euros)  \n",
       "0   Mármore             Renovada           2291200  "
      ]
     },
     "execution_count": 65,
     "metadata": {},
     "output_type": "execute_result"
    }
   ],
   "source": [
    "df.head(1)"
   ]
  },
  {
   "cell_type": "markdown",
   "id": "562fc35a",
   "metadata": {},
   "source": [
    "## Gerando gráficos com as informações do dataset"
   ]
  },
  {
   "cell_type": "code",
   "execution_count": 66,
   "id": "bffcb57a",
   "metadata": {},
   "outputs": [
    {
     "data": {
      "text/plain": [
       "Bairro\n",
       "Kensington      114\n",
       "Marylebone      113\n",
       "Camden          106\n",
       "Westminster      98\n",
       "Greenwich        97\n",
       "Islington        97\n",
       "Notting Hill     96\n",
       "Soho             96\n",
       "Chelsea          94\n",
       "Shoreditch       89\n",
       "Name: count, dtype: int64"
      ]
     },
     "execution_count": 66,
     "metadata": {},
     "output_type": "execute_result"
    }
   ],
   "source": [
    "df['Bairro'].value_counts()"
   ]
  },
  {
   "cell_type": "code",
   "execution_count": 67,
   "id": "4f07b256",
   "metadata": {},
   "outputs": [
    {
     "data": {
      "text/plain": [
       "<Axes: title={'center': 'Distribuição de casas por bairros'}, xlabel='Bairro'>"
      ]
     },
     "execution_count": 67,
     "metadata": {},
     "output_type": "execute_result"
    },
    {
     "data": {
      "image/png": "[encoded data removed]",
      "text/plain": [
       "<Figure size 640x480 with 1 Axes>"
      ]
     },
     "metadata": {},
     "output_type": "display_data"
    }
   ],
   "source": [
    "df['Bairro'].value_counts().plot(kind='bar', title='Distribuição de casas por bairros')"
   ]
  },
  {
   "cell_type": "code",
   "execution_count": 68,
   "id": "341f3f0d",
   "metadata": {},
   "outputs": [],
   "source": [
    "import seaborn as sns"
   ]
  },
  {
   "cell_type": "code",
   "execution_count": 70,
   "id": "5098bbcd",
   "metadata": {},
   "outputs": [
    {
     "data": {
      "text/plain": [
       "<Axes: xlabel='Bairro', ylabel='Preço (em euros)'>"
      ]
     },
     "execution_count": 70,
     "metadata": {},
     "output_type": "execute_result"
    },
    {
     "data": {
      "image/png": "[encoded data removed]",
      "text/plain": [
       "<Figure size 640x480 with 1 Axes>"
      ]
     },
     "metadata": {},
     "output_type": "display_data"
    }
   ],
   "source": [
    "sns.barplot(data=df, x='Bairro', y='Preço (em euros)')"
   ]
  },
  {
   "cell_type": "markdown",
   "id": "543cf0a1",
   "metadata": {},
   "source": [
    "## Gráfico com o matplotlib e seaborn"
   ]
  },
  {
   "cell_type": "code",
   "execution_count": 71,
   "id": "2ebb94ea",
   "metadata": {},
   "outputs": [],
   "source": [
    "import matplotlib.pyplot as plt"
   ]
  },
  {
   "cell_type": "code",
   "execution_count": 76,
   "id": "2edd7019",
   "metadata": {},
   "outputs": [
    {
     "data": {
      "image/png": "[encoded data removed]",
      "text/plain": [
       "<Figure size 1500x500 with 1 Axes>"
      ]
     },
     "metadata": {},
     "output_type": "display_data"
    }
   ],
   "source": [
    "plt.figure(figsize=(15,5))\n",
    "sns.barplot(data=df, x='Bairro', y='Preço (em euros)')\n",
    "plt.title('Preço médio da casa por bairro')\n",
    "plt.xlabel('Bairro')\n",
    "plt.ylabel('Valor médio (EUR)')\n",
    "plt.show()"
   ]
  },
  {
   "cell_type": "code",
   "execution_count": 83,
   "id": "578f47d8",
   "metadata": {},
   "outputs": [
    {
     "data": {
      "text/html": [
       "<div>\n",
       "<style scoped>\n",
       "    .dataframe tbody tr th:only-of-type {\n",
       "        vertical-align: middle;\n",
       "    }\n",
       "\n",
       "    .dataframe tbody tr th {\n",
       "        vertical-align: top;\n",
       "    }\n",
       "\n",
       "    .dataframe thead th {\n",
       "        text-align: right;\n",
       "    }\n",
       "</style>\n",
       "<table border=\"1\" class=\"dataframe\">\n",
       "  <thead>\n",
       "    <tr style=\"text-align: right;\">\n",
       "      <th></th>\n",
       "      <th>Endereço</th>\n",
       "      <th>Bairro</th>\n",
       "      <th>Quartos</th>\n",
       "      <th>Bathrooms</th>\n",
       "      <th>Metros Quadrados</th>\n",
       "      <th>Idade da Construção</th>\n",
       "      <th>Jardim</th>\n",
       "      <th>Garagem</th>\n",
       "      <th>Andares</th>\n",
       "      <th>Tipo de Propriedade</th>\n",
       "      <th>Tipo de Aquecimento</th>\n",
       "      <th>Sacada</th>\n",
       "      <th>Estilo do Interior</th>\n",
       "      <th>Vista</th>\n",
       "      <th>Materiais</th>\n",
       "      <th>Status da Construção</th>\n",
       "      <th>Preço (em euros)</th>\n",
       "    </tr>\n",
       "  </thead>\n",
       "  <tbody>\n",
       "    <tr>\n",
       "      <th>0</th>\n",
       "      <td>78 Regent Street</td>\n",
       "      <td>Notting Hill</td>\n",
       "      <td>2</td>\n",
       "      <td>3</td>\n",
       "      <td>179</td>\n",
       "      <td>72</td>\n",
       "      <td>0</td>\n",
       "      <td>0</td>\n",
       "      <td>3</td>\n",
       "      <td>Geminada</td>\n",
       "      <td>Elétrico</td>\n",
       "      <td>Sacada de alto nível</td>\n",
       "      <td>Industrial</td>\n",
       "      <td>Jardim</td>\n",
       "      <td>Mármore</td>\n",
       "      <td>Renovada</td>\n",
       "      <td>2291200</td>\n",
       "    </tr>\n",
       "    <tr>\n",
       "      <th>1</th>\n",
       "      <td>198 Oxford Street</td>\n",
       "      <td>Westminster</td>\n",
       "      <td>2</td>\n",
       "      <td>1</td>\n",
       "      <td>123</td>\n",
       "      <td>34</td>\n",
       "      <td>1</td>\n",
       "      <td>0</td>\n",
       "      <td>1</td>\n",
       "      <td>Apartamento</td>\n",
       "      <td>Central</td>\n",
       "      <td>Sacada de alto nível</td>\n",
       "      <td>Industrial</td>\n",
       "      <td>Cidade</td>\n",
       "      <td>Piso Laminado</td>\n",
       "      <td>Velha</td>\n",
       "      <td>1476000</td>\n",
       "    </tr>\n",
       "    <tr>\n",
       "      <th>2</th>\n",
       "      <td>18 Regent Street</td>\n",
       "      <td>Soho</td>\n",
       "      <td>5</td>\n",
       "      <td>3</td>\n",
       "      <td>168</td>\n",
       "      <td>38</td>\n",
       "      <td>0</td>\n",
       "      <td>1</td>\n",
       "      <td>3</td>\n",
       "      <td>Geminada</td>\n",
       "      <td>Central</td>\n",
       "      <td>Sem sacada</td>\n",
       "      <td>Industrial</td>\n",
       "      <td>Rua</td>\n",
       "      <td>Madeira</td>\n",
       "      <td>Renovada</td>\n",
       "      <td>1881600</td>\n",
       "    </tr>\n",
       "    <tr>\n",
       "      <th>3</th>\n",
       "      <td>39 Piccadilly Circus</td>\n",
       "      <td>Islington</td>\n",
       "      <td>5</td>\n",
       "      <td>1</td>\n",
       "      <td>237</td>\n",
       "      <td>53</td>\n",
       "      <td>1</td>\n",
       "      <td>1</td>\n",
       "      <td>1</td>\n",
       "      <td>Apartamento</td>\n",
       "      <td>Piso</td>\n",
       "      <td>Sem sacada</td>\n",
       "      <td>Clássico</td>\n",
       "      <td>Parque</td>\n",
       "      <td>Granito</td>\n",
       "      <td>Renovada</td>\n",
       "      <td>1896000</td>\n",
       "    </tr>\n",
       "    <tr>\n",
       "      <th>4</th>\n",
       "      <td>116 Fleet Street</td>\n",
       "      <td>Marylebone</td>\n",
       "      <td>4</td>\n",
       "      <td>1</td>\n",
       "      <td>127</td>\n",
       "      <td>23</td>\n",
       "      <td>0</td>\n",
       "      <td>1</td>\n",
       "      <td>2</td>\n",
       "      <td>Geminada</td>\n",
       "      <td>Central</td>\n",
       "      <td>Sem sacada</td>\n",
       "      <td>Moderno</td>\n",
       "      <td>Parque</td>\n",
       "      <td>Madeira</td>\n",
       "      <td>Velha</td>\n",
       "      <td>1524000</td>\n",
       "    </tr>\n",
       "  </tbody>\n",
       "</table>\n",
       "</div>"
      ],
      "text/plain": [
       "               Endereço        Bairro  Quartos  Bathrooms  Metros Quadrados  \\\n",
       "0      78 Regent Street  Notting Hill        2          3               179   \n",
       "1     198 Oxford Street   Westminster        2          1               123   \n",
       "2      18 Regent Street          Soho        5          3               168   \n",
       "3  39 Piccadilly Circus     Islington        5          1               237   \n",
       "4      116 Fleet Street    Marylebone        4          1               127   \n",
       "\n",
       "   Idade da Construção  Jardim  Garagem  Andares Tipo de Propriedade  \\\n",
       "0                   72       0        0        3            Geminada   \n",
       "1                   34       1        0        1         Apartamento   \n",
       "2                   38       0        1        3            Geminada   \n",
       "3                   53       1        1        1         Apartamento   \n",
       "4                   23       0        1        2            Geminada   \n",
       "\n",
       "  Tipo de Aquecimento                Sacada Estilo do Interior   Vista  \\\n",
       "0            Elétrico  Sacada de alto nível         Industrial  Jardim   \n",
       "1             Central  Sacada de alto nível         Industrial  Cidade   \n",
       "2             Central            Sem sacada         Industrial     Rua   \n",
       "3                Piso            Sem sacada           Clássico  Parque   \n",
       "4             Central            Sem sacada            Moderno  Parque   \n",
       "\n",
       "       Materiais Status da Construção  Preço (em euros)  \n",
       "0        Mármore             Renovada           2291200  \n",
       "1  Piso Laminado                Velha           1476000  \n",
       "2        Madeira             Renovada           1881600  \n",
       "3        Granito             Renovada           1896000  \n",
       "4        Madeira                Velha           1524000  "
      ]
     },
     "execution_count": 83,
     "metadata": {},
     "output_type": "execute_result"
    }
   ],
   "source": [
    "df.head()"
   ]
  },
  {
   "cell_type": "markdown",
   "id": "99f78607",
   "metadata": {},
   "source": [
    "## Colocando uma ordem decrescente no gráfico"
   ]
  },
  {
   "cell_type": "code",
   "execution_count": 93,
   "id": "8447696e",
   "metadata": {},
   "outputs": [
    {
     "data": {
      "text/plain": [
       "Index(['Chelsea', 'Westminster', 'Kensington', 'Notting Hill', 'Marylebone',\n",
       "       'Soho', 'Camden', 'Islington', 'Shoreditch', 'Greenwich'],\n",
       "      dtype='object', name='Bairro')"
      ]
     },
     "execution_count": 93,
     "metadata": {},
     "output_type": "execute_result"
    }
   ],
   "source": [
    "ordem = df.groupby('Bairro')['Preço (em euros)'].mean().sort_values(ascending=False).index\n",
    "ordem"
   ]
  },
  {
   "cell_type": "code",
   "execution_count": 101,
   "id": "80fd7b5f",
   "metadata": {},
   "outputs": [
    {
     "data": {
      "image/png": "[encoded data removed]",
      "text/plain": [
       "<Figure size 1400x400 with 1 Axes>"
      ]
     },
     "metadata": {},
     "output_type": "display_data"
    }
   ],
   "source": [
    "plt.figure(figsize=(14,4))\n",
    "sns.barplot(data=df, x='Bairro', y='Preço (em euros)', order=ordem)\n",
    "plt.title('Preço médio da casa por bairro')\n",
    "plt.xlabel('Bairro')\n",
    "plt.ylabel('Valor médio (EUR)')\n",
    "plt.show()"
   ]
  },
  {
   "cell_type": "code",
   "execution_count": 109,
   "id": "74bdf4c2",
   "metadata": {},
   "outputs": [
    {
     "data": {
      "image/png": "[encoded data removed]",
      "text/plain": [
       "<Figure size 1400x400 with 1 Axes>"
      ]
     },
     "metadata": {},
     "output_type": "display_data"
    }
   ],
   "source": [
    "plt.figure(figsize=(14,4))\n",
    "sns.countplot(data=df, x='Bairro')\n",
    "plt.title('Quantidade de casas por bairro')\n",
    "plt.xlabel('Bairro')\n",
    "plt.ylabel('Quantidade')\n",
    "plt.show()"
   ]
  },
  {
   "cell_type": "code",
   "execution_count": 111,
   "id": "75d07ef9",
   "metadata": {},
   "outputs": [
    {
     "data": {
      "image/png": "[encoded data removed]",
      "text/plain": [
       "<Figure size 1400x700 with 1 Axes>"
      ]
     },
     "metadata": {},
     "output_type": "display_data"
    }
   ],
   "source": [
    "plt.figure(figsize=(14,7))\n",
    "sns.countplot(data=df, x='Bairro', order=df['Bairro'].value_counts().index)\n",
    "plt.title('Quantidade de casas por bairro')\n",
    "plt.xlabel('Bairro')\n",
    "plt.ylabel('Quantidade')\n",
    "plt.show()"
   ]
  },
  {
   "cell_type": "code",
   "execution_count": 112,
   "id": "fb420bd8",
   "metadata": {},
   "outputs": [
    {
     "data": {
      "text/html": [
       "<div>\n",
       "<style scoped>\n",
       "    .dataframe tbody tr th:only-of-type {\n",
       "        vertical-align: middle;\n",
       "    }\n",
       "\n",
       "    .dataframe tbody tr th {\n",
       "        vertical-align: top;\n",
       "    }\n",
       "\n",
       "    .dataframe thead th {\n",
       "        text-align: right;\n",
       "    }\n",
       "</style>\n",
       "<table border=\"1\" class=\"dataframe\">\n",
       "  <thead>\n",
       "    <tr style=\"text-align: right;\">\n",
       "      <th></th>\n",
       "      <th>Endereço</th>\n",
       "      <th>Bairro</th>\n",
       "      <th>Quartos</th>\n",
       "      <th>Bathrooms</th>\n",
       "      <th>Metros Quadrados</th>\n",
       "      <th>Idade da Construção</th>\n",
       "      <th>Jardim</th>\n",
       "      <th>Garagem</th>\n",
       "      <th>Andares</th>\n",
       "      <th>Tipo de Propriedade</th>\n",
       "      <th>Tipo de Aquecimento</th>\n",
       "      <th>Sacada</th>\n",
       "      <th>Estilo do Interior</th>\n",
       "      <th>Vista</th>\n",
       "      <th>Materiais</th>\n",
       "      <th>Status da Construção</th>\n",
       "      <th>Preço (em euros)</th>\n",
       "    </tr>\n",
       "  </thead>\n",
       "  <tbody>\n",
       "    <tr>\n",
       "      <th>0</th>\n",
       "      <td>78 Regent Street</td>\n",
       "      <td>Notting Hill</td>\n",
       "      <td>2</td>\n",
       "      <td>3</td>\n",
       "      <td>179</td>\n",
       "      <td>72</td>\n",
       "      <td>0</td>\n",
       "      <td>0</td>\n",
       "      <td>3</td>\n",
       "      <td>Geminada</td>\n",
       "      <td>Elétrico</td>\n",
       "      <td>Sacada de alto nível</td>\n",
       "      <td>Industrial</td>\n",
       "      <td>Jardim</td>\n",
       "      <td>Mármore</td>\n",
       "      <td>Renovada</td>\n",
       "      <td>2291200.0</td>\n",
       "    </tr>\n",
       "    <tr>\n",
       "      <th>1</th>\n",
       "      <td>198 Oxford Street</td>\n",
       "      <td>Westminster</td>\n",
       "      <td>2</td>\n",
       "      <td>1</td>\n",
       "      <td>123</td>\n",
       "      <td>34</td>\n",
       "      <td>1</td>\n",
       "      <td>0</td>\n",
       "      <td>1</td>\n",
       "      <td>Apartamento</td>\n",
       "      <td>Central</td>\n",
       "      <td>Sacada de alto nível</td>\n",
       "      <td>Industrial</td>\n",
       "      <td>Cidade</td>\n",
       "      <td>Piso Laminado</td>\n",
       "      <td>Velha</td>\n",
       "      <td>1476000.0</td>\n",
       "    </tr>\n",
       "  </tbody>\n",
       "</table>\n",
       "</div>"
      ],
      "text/plain": [
       "            Endereço        Bairro  Quartos  Bathrooms  Metros Quadrados  \\\n",
       "0   78 Regent Street  Notting Hill        2          3               179   \n",
       "1  198 Oxford Street   Westminster        2          1               123   \n",
       "\n",
       "   Idade da Construção  Jardim  Garagem  Andares Tipo de Propriedade  \\\n",
       "0                   72       0        0        3            Geminada   \n",
       "1                   34       1        0        1         Apartamento   \n",
       "\n",
       "  Tipo de Aquecimento                Sacada Estilo do Interior   Vista  \\\n",
       "0            Elétrico  Sacada de alto nível         Industrial  Jardim   \n",
       "1             Central  Sacada de alto nível         Industrial  Cidade   \n",
       "\n",
       "       Materiais Status da Construção  Preço (em euros)  \n",
       "0        Mármore             Renovada         2291200.0  \n",
       "1  Piso Laminado                Velha         1476000.0  "
      ]
     },
     "execution_count": 112,
     "metadata": {},
     "output_type": "execute_result"
    }
   ],
   "source": [
    "df.head(2)"
   ]
  },
  {
   "cell_type": "code",
   "execution_count": 115,
   "id": "726965a0",
   "metadata": {},
   "outputs": [
    {
     "data": {
      "image/png": "[encoded data removed]",
      "text/plain": [
       "<Figure size 800x500 with 1 Axes>"
      ]
     },
     "metadata": {},
     "output_type": "display_data"
    }
   ],
   "source": [
    "plt.figure(figsize=(8,5))\n",
    "sns.barplot(data=df, x='Quartos', y='Preço (em euros)')\n",
    "plt.title('Preço médio da casa por quantidade de quartos')\n",
    "plt.xlabel('Qtd. Quartos')\n",
    "plt.ylabel('Valor médio (EUR)')\n",
    "plt.show()"
   ]
  },
  {
   "cell_type": "code",
   "execution_count": 116,
   "id": "207233f7",
   "metadata": {},
   "outputs": [
    {
     "data": {
      "image/png": "[encoded data removed]",
      "text/plain": [
       "<Figure size 800x500 with 1 Axes>"
      ]
     },
     "metadata": {},
     "output_type": "display_data"
    }
   ],
   "source": [
    "ordem = df.groupby('Quartos')['Preço (em euros)'].mean().sort_values(ascending=False).index\n",
    "plt.figure(figsize=(8,5))\n",
    "sns.barplot(data=df, x='Quartos', y='Preço (em euros)', order=ordem)\n",
    "plt.title('Preço médio da casa por quantidade de quartos')\n",
    "plt.xlabel('Qtd. Quartos')\n",
    "plt.ylabel('Valor médio (EUR)')\n",
    "plt.show()"
   ]
  },
  {
   "cell_type": "code",
   "execution_count": 118,
   "id": "2fa927fc",
   "metadata": {},
   "outputs": [
    {
     "data": {
      "image/png": "[encoded data removed]",
      "text/plain": [
       "<Figure size 1400x500 with 1 Axes>"
      ]
     },
     "metadata": {},
     "output_type": "display_data"
    }
   ],
   "source": [
    "plt.figure(figsize=(14,5))\n",
    "sns.barplot(data=df, x='Bairro', y='Quartos')\n",
    "plt.title('Quantidade média de quartos por bairro')\n",
    "plt.xlabel('Bairro')\n",
    "plt.ylabel('Média quartos')\n",
    "plt.show()"
   ]
  },
  {
   "cell_type": "code",
   "execution_count": 119,
   "id": "d27fbdac",
   "metadata": {},
   "outputs": [
    {
     "data": {
      "image/png": "[encoded data removed]",
      "text/plain": [
       "<Figure size 1400x500 with 1 Axes>"
      ]
     },
     "metadata": {},
     "output_type": "display_data"
    }
   ],
   "source": [
    "ordem = df.groupby('Bairro')['Quartos'].mean().sort_values(ascending=True).index\n",
    "plt.figure(figsize=(14,5))\n",
    "sns.barplot(data=df, x='Bairro', y='Quartos', order=ordem)\n",
    "plt.title('Quantidade média de quartos por bairro')\n",
    "plt.xlabel('Bairro')\n",
    "plt.ylabel('Média quartos')\n",
    "plt.show()"
   ]
  },
  {
   "cell_type": "code",
   "execution_count": 121,
   "id": "917bda15",
   "metadata": {},
   "outputs": [
    {
     "data": {
      "image/png": "[encoded data removed]",
      "text/plain": [
       "<Figure size 800x500 with 1 Axes>"
      ]
     },
     "metadata": {},
     "output_type": "display_data"
    }
   ],
   "source": [
    "ordem = df.groupby('Estilo do Interior')['Preço (em euros)'].mean().sort_values(ascending=False).index\n",
    "\n",
    "plt.figure(figsize=(8,5))\n",
    "sns.barplot(data=df, x='Estilo do Interior', y='Preço (em euros)', order=ordem)\n",
    "plt.title('Preço médio da casa por estilo do interior')\n",
    "plt.xlabel('Estilo')\n",
    "plt.ylabel('Valor médio (EUR)')\n",
    "plt.show()"
   ]
  },
  {
   "cell_type": "code",
   "execution_count": 137,
   "id": "9e6086e7",
   "metadata": {},
   "outputs": [
    {
     "data": {
      "image/png": "[encoded data removed]",
      "text/plain": [
       "<Figure size 400x600 with 1 Axes>"
      ]
     },
     "metadata": {},
     "output_type": "display_data"
    }
   ],
   "source": [
    "ordem = df.groupby('Jardim')['Preço (em euros)'].mean().sort_values(ascending=False).index\n",
    "\n",
    "plt.figure(figsize=(4,6))\n",
    "sns.barplot(data=df, x='Jardim', y='Preço (em euros)', order=ordem)\n",
    "plt.title('Preço médio da casa com e sem jardim')\n",
    "plt.xlabel('Jardim?')\n",
    "plt.ylabel('Valor médio (EUR)')\n",
    "plt.show()"
   ]
  },
  {
   "cell_type": "code",
   "execution_count": 134,
   "id": "6c49a4b0",
   "metadata": {},
   "outputs": [
    {
     "data": {
      "image/png": "[encoded data removed]",
      "text/plain": [
       "<Figure size 500x300 with 1 Axes>"
      ]
     },
     "metadata": {},
     "output_type": "display_data"
    }
   ],
   "source": [
    "ordem = df.groupby('Tipo de Propriedade')['Preço (em euros)'].mean().sort_values(ascending=False).index\n",
    "\n",
    "plt.figure(figsize=(5,3))\n",
    "sns.barplot(data=df, x='Tipo de Propriedade', y='Preço (em euros)', order=ordem)\n",
    "plt.title('Preço médio da casa por tipo de propriedade')\n",
    "plt.xlabel('Tipo de Propriedade')\n",
    "plt.ylabel('Valor médio (EUR)')\n",
    "plt.show()"
   ]
  }
 ],
 "metadata": {
  "kernelspec": {
   "display_name": "Python 3",
   "language": "python",
   "name": "python3"
  },
  "language_info": {
   "codemirror_mode": {
    "name": "ipython",
    "version": 3
   },
   "file_extension": ".py",
   "mimetype": "text/x-python",
   "name": "python",
   "nbconvert_exporter": "python",
   "pygments_lexer": "ipython3",
   "version": "3.13.3"
  }
 },
 "nbformat": 4,
 "nbformat_minor": 5
}
